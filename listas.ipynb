{
  "nbformat": 4,
  "nbformat_minor": 0,
  "metadata": {
    "colab": {
      "name": "listas.ipynb",
      "provenance": [],
      "authorship_tag": "ABX9TyPE35gf6m6/hUGujyF47742",
      "include_colab_link": true
    },
    "kernelspec": {
      "name": "python3",
      "display_name": "Python 3"
    }
  },
  "cells": [
    {
      "cell_type": "markdown",
      "metadata": {
        "id": "view-in-github",
        "colab_type": "text"
      },
      "source": [
        "<a href=\"https://colab.research.google.com/github/TonyReyes24/edd11310_2021/blob/master/listas.ipynb\" target=\"_parent\"><img src=\"https://colab.research.google.com/assets/colab-badge.svg\" alt=\"Open In Colab\"/></a>"
      ]
    },
    {
      "cell_type": "code",
      "metadata": {
        "colab": {
          "base_uri": "https://localhost:8080/",
          "height": 129
        },
        "id": "rL-CdCdnEn4s",
        "outputId": "840fa3dd-8f77-4298-ee7d-05b3825a9fee"
      },
      "source": [
        "clase  Nodo :\n",
        "    def  __init__ ( self , value , siguiente  =  None ):\n",
        "        yo . data  =  valor        #Falta encapsulamiento\n",
        "        yo . siguiente  =  siguiente\n",
        "\n",
        "clase  LinkedList :\n",
        "    def  __init__ ( self ):    #Se crea el constructor\n",
        "        yo . __head  =  None   #Como cuando se crea la lista está vacia, entonces apunta a entonces apunt a None\n",
        "\n",
        "    def  is_empty ( auto ):\n",
        "        volver a  sí mismo . __head  ==  Ninguno\n",
        "\n",
        "    def  append ( self , value ):\n",
        "        nuevo  =  Nodo ( valor )\n",
        "        si  yo . __head  ==  Ninguno : # self.is_empty ()\n",
        "            yo . __head  =  nuevo\n",
        "        otra cosa :\n",
        "            curr_node  =  self . __cabeza\n",
        "                curr_node  =  curr_node . siguiente\n",
        "                mientras  curr_node . siguiente  ! =  None : #verifica si se llegó al final\n",
        "            curr_node . siguiente  =  nuevo\n",
        "\n",
        "    def  transversal ( auto ):\n",
        "        curr_node  =  self . __cabeza\n",
        "        while  curr_node  ! =  Ninguno :\n",
        "            print ( f \" { curr_node . data } ->\" , end = \"\" )\n",
        "            curr_node  =  curr_node . siguiente\n",
        "        imprimir ( \"\" )\n",
        "\n",
        "    def  eliminar ( self , value ):\n",
        "        curr_node  =  self . __cabeza\n",
        "        si  yo . __head . data  ==  value : #Comprueba si es en el primer dato\n",
        "            yo . __head  =  self . __head . siguiente\n",
        "        otra cosa :\n",
        "            anterior  =  Ninguno\n",
        "            mientras  curr_node . data  ! =  value  y  curr_node . siguiente  ! =  Ninguno :\n",
        "                anterior  =  curr_node\n",
        "                curr_node  =  curr_node . siguiente\n",
        "            si  curr_node . datos  ==  valor :\n",
        "                anterior . siguiente  =  curr_node . siguiente\n",
        "            otra cosa :\n",
        "                print ( \"El dato no existe en la lista\" )\n",
        "\n",
        "    def  anteponer ( self , value ):\n",
        "        nuevo  =  Nodo ( valor , self . __head )\n",
        "        yo . __head  =  nuevo\n",
        "\n",
        "    def  tail ( yo ):\n",
        "        curr_node  =  self . __cabeza\n",
        "        mientras  curr_node . siguiente  ! =  Ninguno :\n",
        "            curr_node  =  curr_node . siguiente\n",
        "        return  curr_node\n",
        "\n",
        "    def  get ( self , posicion = None ):   #Por defecto regresa último\n",
        "        contador  =  0   #Sirve para conseguir un dato\n",
        "        dato  =  Ninguno\n",
        "        if  posicion  ==  Ninguno :\n",
        "            dato  =  yo . cola (). datos\n",
        "        otra cosa :\n",
        "            pasar\n",
        "        volver  dato"
      ],
      "execution_count": 1,
      "outputs": [
        {
          "output_type": "error",
          "ename": "SyntaxError",
          "evalue": "ignored",
          "traceback": [
            "\u001b[0;36m  File \u001b[0;32m\"<ipython-input-1-67de2d0db655>\"\u001b[0;36m, line \u001b[0;32m1\u001b[0m\n\u001b[0;31m    clase  Nodo :\u001b[0m\n\u001b[0m              ^\u001b[0m\n\u001b[0;31mSyntaxError\u001b[0m\u001b[0;31m:\u001b[0m invalid syntax\n"
          ]
        }
      ]
    }
  ]
}