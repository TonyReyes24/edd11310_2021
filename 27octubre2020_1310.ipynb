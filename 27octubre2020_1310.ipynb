{
  "nbformat": 4,
  "nbformat_minor": 0,
  "metadata": {
    "colab": {
      "name": "27octubre2020_1310.ipynb",
      "provenance": [],
      "authorship_tag": "ABX9TyPw0WqMp9dmmgXc9pVohN5G",
      "include_colab_link": true
    },
    "kernelspec": {
      "name": "python3",
      "display_name": "Python 3"
    }
  },
  "cells": [
    {
      "cell_type": "markdown",
      "metadata": {
        "id": "view-in-github",
        "colab_type": "text"
      },
      "source": [
        "<a href=\"https://colab.research.google.com/github/TonyReyes24/edd11310_2021/blob/master/27octubre2020_1310.ipynb\" target=\"_parent\"><img src=\"https://colab.research.google.com/assets/colab-badge.svg\" alt=\"Open In Colab\"/></a>"
      ]
    },
    {
      "cell_type": "code",
      "metadata": {
        "id": "Lfzf7kKkBd6y",
        "outputId": "dc4e1ec9-99cd-4c6b-c944-fef937017de8",
        "colab": {
          "base_uri": "https://localhost:8080/",
          "height": 68
        }
      },
      "source": [
        "class Computadora:\n",
        "    def __init__( self , m , p):\n",
        "        self.__marca = m\n",
        "        self.__procesador = p\n",
        "\n",
        "    def to_string( self ):\n",
        "        return \"Marca:\"+self.__marca+\" Procesador:\"+self.__procesador\n",
        "\n",
        "    def set_marca(self , m) :\n",
        "        self.__marca = m\n",
        "\n",
        "    def get_marca( self ) :\n",
        "        return self.__marca\n",
        "\n",
        "    def set_procesador( self , p ) :\n",
        "        self.__procesador = p\n",
        "\n",
        "    def get_procesador( self ) :\n",
        "        return self.__procesador  \n",
        "mi_pc = Computadora(\"Toshiba\",\"Intel i7\")\n",
        "print(mi_pc.to_string())\n",
        "mi_pc.__marca=\"HP \"  # Intentando cambiar el valor privado\n",
        "mi_pc.set_marca(\"HP co.\")\n",
        "print(mi_pc.to_string())\n",
        "#print(mi_pc.__procesador)\n",
        "print(mi_pc.get_procesador())"
      ],
      "execution_count": 15,
      "outputs": [
        {
          "output_type": "stream",
          "text": [
            "Marca:Toshiba Procesador:Intel i7\n",
            "Marca:HP co. Procesador:Intel i7\n",
            "Intel i7\n"
          ],
          "name": "stdout"
        }
      ]
    },
    {
      "cell_type": "markdown",
      "metadata": {
        "id": "yDKwh45eENl3"
      },
      "source": [
        "# Encapsulamiento en Python 3\n",
        "## Tradicional tipo Java\n",
        "        void setAtributo( val )\n",
        "        tipo getAtributo(  )\n",
        "##Estilo Python 3\n",
        "        UTILIZANDO DECORADORES\n",
        "     -  @property\n",
        "     -  @atributo.setter\n",
        "       "
      ]
    },
    {
      "cell_type": "code",
      "metadata": {
        "id": "_qoIulDtHzos",
        "outputId": "b54f3f22-2b22-4767-ad9e-07c9087f4ee9",
        "colab": {
          "base_uri": "https://localhost:8080/",
          "height": 102
        }
      },
      "source": [
        "class Computadora:\n",
        "    def __init__(self, m , p):\n",
        "        self.marca = m # No se declara, se manda a llamar el decorador @property\n",
        "        self.procesador = p #idem\n",
        "\n",
        "    @property                  # Se declara como atributo provado y funciona como método get\n",
        "    def marca( self ):\n",
        "        return self.__marca\n",
        "\n",
        "    @marca.setter\n",
        "    def marca( self , m):\n",
        "        print(\"En el setter de marca\")\n",
        "        self.__marca = m\n",
        "    \n",
        "    @property\n",
        "    def procesador( self ):\n",
        "        return self.__procesador\n",
        "\n",
        "    @procesador.setter\n",
        "    def procesador( self , p):\n",
        "        print(\"En el método set de procesador\")\n",
        "        self .__procesador = p\n",
        "\n",
        "    def to_string( self ):\n",
        "        return \" Marca:\" + self.marca + \" Procesador: \"+ self.procesador\n",
        "\n",
        "mi_pc2 = Computadora(\" Mac book pro 2020 \" , \"Intel core i7-9750h\")\n",
        "print( mi_pc2.to_string() )\n",
        "mi_pc2.marca = \" Dell G7 7790 \"\n",
        "print( mi_pc2.to_string() )\n"
      ],
      "execution_count": 28,
      "outputs": [
        {
          "output_type": "stream",
          "text": [
            "En el setter de marca\n",
            "En el método set de procesador\n",
            " Marca: Mac book pro 2020  Procesador: Intel core i7-9750h\n",
            "En el setter de marca\n",
            " Marca: Dell G7 7790  Procesador: Intel core i7-9750h\n"
          ],
          "name": "stdout"
        }
      ]
    },
    {
      "cell_type": "code",
      "metadata": {
        "id": "Qb7R3JgKQh30",
        "outputId": "951c717b-5129-4610-f343-b2b6611cb46d",
        "colab": {
          "base_uri": "https://localhost:8080/",
          "height": 85
        }
      },
      "source": [
        "# Herencia , pasando la clase base a la declaración \n",
        "class ServidorEmpresarial( Computadora ) :\n",
        "    def __init__( self ) :\n",
        "        print(\"Bienvenido a este nuevo servidor\")\n",
        "\n",
        "server = ServidorEmpresarial()\n",
        "server.marca = \" Sun Micro Systems\"\n",
        "server.procesador = \"Intel corre i7-10750h\"\n",
        "print(server.to_string() )\n"
      ],
      "execution_count": 39,
      "outputs": [
        {
          "output_type": "stream",
          "text": [
            "Bienvenido a este nuevo servidor\n",
            "En el setter de marca\n",
            "En el método set de procesador\n",
            " Marca: Sun Micro Systems Procesador: Intel corre i7-10750h\n"
          ],
          "name": "stdout"
        }
      ]
    }
  ]
}