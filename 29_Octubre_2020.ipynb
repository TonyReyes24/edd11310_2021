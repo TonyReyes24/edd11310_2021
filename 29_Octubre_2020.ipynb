{
  "nbformat": 4,
  "nbformat_minor": 0,
  "metadata": {
    "colab": {
      "name": "29_Octubre_2020.ipynb",
      "provenance": [],
      "authorship_tag": "ABX9TyPCaEHls83SMQMfozI+XoTQ",
      "include_colab_link": true
    },
    "kernelspec": {
      "name": "python3",
      "display_name": "Python 3"
    }
  },
  "cells": [
    {
      "cell_type": "markdown",
      "metadata": {
        "id": "view-in-github",
        "colab_type": "text"
      },
      "source": [
        "<a href=\"https://colab.research.google.com/github/TonyReyes24/edd11310_2021/blob/master/29_Octubre_2020.ipynb\" target=\"_parent\"><img src=\"https://colab.research.google.com/assets/colab-badge.svg\" alt=\"Open In Colab\"/></a>"
      ]
    },
    {
      "cell_type": "code",
      "metadata": {
        "colab": {
          "base_uri": "https://localhost:8080/",
          "height": 132
        },
        "id": "MSmtyQ-pGxY6",
        "outputId": "27ed1ec8-3ce7-4a43-ed20-6f924e139b48"
      },
      "source": [
        "class  Matriz :\r\n",
        "    def  __init__ ( self , tam ):\r\n",
        "        #self .__ info = [] #lista abierta\r\n",
        "        yo . __info  = [ 0  for  x  in  range ( tam )] #lista establecida\r\n",
        "\r\n",
        "    def  get_item ( self , posicion ):\r\n",
        "        dato  =  0\r\n",
        "        prueba :\r\n",
        "            dato  =  yo . __info [ posicion ]\r\n",
        "        excepto la  excepción  como  e :\r\n",
        "            print ( \"Error de posicion\" )\r\n",
        "            dato  =  \"Error\"\r\n",
        "        volver  dato\r\n",
        "\r\n",
        "    def  set_item ( self , dato , posicion ):\r\n",
        "        prueba :\r\n",
        "            yo . __info [ posicion ] =  dato\r\n",
        "        excepto la  excepción  como  e :\r\n",
        "            print ( \"Error de posicion\" )\r\n",
        "\r\n",
        "    def  get_length ( self ):\r\n",
        "        return  len ( self . __info )\r\n",
        "\r\n",
        "    def  clear ( self , dato ):\r\n",
        "        yo . __info  = [ dato  para  x  en  rango ( len ( self . __info ))]\r\n",
        "\r\n",
        "    def  __iter__ ( yo ):\r\n",
        "        volver  _IteradorArreglo ( self . __info )\r\n",
        "\r\n",
        "clase  _IteradorArreglo :\r\n",
        "    def  __init__ ( self , arr ):\r\n",
        "        yo . __arr  =  arr\r\n",
        "        yo . __indice  =  0\r\n",
        "\r\n",
        "    def  __iter__ ( yo ):\r\n",
        "        retorno  auto\r\n",
        "\r\n",
        "    def  __next__ ( self ):\r\n",
        "        si  yo . __indice  <  len ( self . __arr ):\r\n",
        "            dato  =  yo . __arr [ self . __indice ]\r\n",
        "            yo . __indice  + =  1\r\n",
        "            volver  dato\r\n",
        "        otra cosa :\r\n",
        "            subir  StopIteration\r\n",
        "\r\n",
        "\r\n",
        "algo  =  Matriz ( 10 )\r\n",
        "imprimir ( algo . get_item ( 333 ))\r\n",
        "algo . set_item ( 555 , 3 )\r\n",
        "imprimir ( algo . get_item ( 3 ))\r\n",
        "print ( f \"El arreglo tiene { algo . get_length () } elementos\" )\r\n",
        "algo . transparente ( 777 )\r\n",
        "imprimir ( algo . get_item ( 3 ))\r\n",
        "imprimir ( \"-----------------------------------\" )\r\n",
        "para  x  en  algo :\r\n",
        "  imprimir ( x )\r\n",
        "print ( \"____Prueba de iterador___\" )\r\n",
        "para  x  en el  rango ( algo . get_length ()):\r\n",
        "  print ( x  \"->\"  algo . set_item ( 555 , 3 ))"
      ],
      "execution_count": 4,
      "outputs": [
        {
          "output_type": "error",
          "ename": "SyntaxError",
          "evalue": "ignored",
          "traceback": [
            "\u001b[0;36m  File \u001b[0;32m\"<ipython-input-4-7e3e4e6759b9>\"\u001b[0;36m, line \u001b[0;32m8\u001b[0m\n\u001b[0;31m    prueba :\u001b[0m\n\u001b[0m            ^\u001b[0m\n\u001b[0;31mSyntaxError\u001b[0m\u001b[0;31m:\u001b[0m invalid syntax\n"
          ]
        }
      ]
    },
    {
      "cell_type": "code",
      "metadata": {
        "colab": {
          "base_uri": "https://localhost:8080/",
          "height": 132
        },
        "id": "unoMzcVvHLdK",
        "outputId": "1355b0bd-f8b4-4c08-ab98-b226e65ef1e1"
      },
      "source": [
        "algo  =  Matriz ( 10 )\r\n",
        "imprimir ( algo . get_item ( 333 ))\r\n",
        "algo . set_item ( 555 , 3 )\r\n",
        "imprimir ( algo . get_item ( 3 ))\r\n",
        "print ( f \"El arreglo tiene { algo . get_length () } elementos\" )\r\n",
        "algo . transparente ( 777 )\r\n",
        "imprimir ( algo . get_item ( 3 ))\r\n",
        "imprimir ( \"-----------------------------------\" )\r\n",
        "para  x  en  algo :\r\n",
        "  imprimir ( x )\r\n",
        "print ( \"____Prueba de iterador___\" )\r\n",
        "para  x  en el  rango ( algo . get_length ()):\r\n",
        "  print ( x  \"->\"  algo . set_item ( 555 , 3 ))"
      ],
      "execution_count": 5,
      "outputs": [
        {
          "output_type": "error",
          "ename": "SyntaxError",
          "evalue": "ignored",
          "traceback": [
            "\u001b[0;36m  File \u001b[0;32m\"<ipython-input-5-061fc33a40c8>\"\u001b[0;36m, line \u001b[0;32m5\u001b[0m\n\u001b[0;31m    print ( f \"El arreglo tiene { algo . get_length () } elementos\" )\u001b[0m\n\u001b[0m                                                                  ^\u001b[0m\n\u001b[0;31mSyntaxError\u001b[0m\u001b[0;31m:\u001b[0m invalid syntax\n"
          ]
        }
      ]
    }
  ]
}