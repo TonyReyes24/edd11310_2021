{
  "nbformat": 4,
  "nbformat_minor": 0,
  "metadata": {
    "colab": {
      "name": "1octubre_1310.ipynb",
      "provenance": [],
      "authorship_tag": "ABX9TyOn3QrSJjr+5vlO6fzik2MD",
      "include_colab_link": true
    },
    "kernelspec": {
      "name": "python3",
      "display_name": "Python 3"
    }
  },
  "cells": [
    {
      "cell_type": "markdown",
      "metadata": {
        "id": "view-in-github",
        "colab_type": "text"
      },
      "source": [
        "<a href=\"https://colab.research.google.com/github/TonyReyes24/edd11310_2021/blob/master/1octubre_1310.ipynb\" target=\"_parent\"><img src=\"https://colab.research.google.com/assets/colab-badge.svg\" alt=\"Open In Colab\"/></a>"
      ]
    },
    {
      "cell_type": "markdown",
      "metadata": {
        "id": "zso-VUXw7tQs"
      },
      "source": [
        "# ##Intro Python 3\n",
        "###Variables\n",
        "tipo dinámico\n",
        "escuela = \"Fes Aragón\""
      ]
    },
    {
      "cell_type": "code",
      "metadata": {
        "id": "3a4qrK1S8CN6",
        "outputId": "681efe5c-60c6-4201-c581-f2355ef546b9",
        "colab": {
          "base_uri": "https://localhost:8080/",
          "height": 187
        }
      },
      "source": [
        "escuela = \"FES Aragón\"\n",
        "print(escuela)\n",
        "print(\"-----------\")\n",
        "edad = 13\n",
        "esttura = 1.81\n",
        "fumador = True\n",
        "frase = \"\"\"\n",
        "Esta es \n",
        "una \n",
        "frase \n",
        "de multiples líneas\n",
        "y tambien es \n",
        "un típo de dato\n",
        "\"\"\"\n",
        "print(frase)\n",
        "nombre = 'marco'\n",
        "nombre_completo = \"marco antonio campos reyes\""
      ],
      "execution_count": 30,
      "outputs": [
        {
          "output_type": "stream",
          "text": [
            "FES Aragón\n",
            "-----------\n",
            "\n",
            "Esta es \n",
            "una \n",
            "frase \n",
            "de multiples líneas\n",
            "y tambien es \n",
            "un típo de dato\n",
            "\n"
          ],
          "name": "stdout"
        }
      ]
    },
    {
      "cell_type": "markdown",
      "metadata": {
        "id": "6dTuLgaB918S"
      },
      "source": [
        "# #Print\n",
        "con comas ,     \n",
        "con signo de mas +      \n",
        "con format ()     \n",
        "con el operador f\"\"\n"
      ]
    },
    {
      "cell_type": "code",
      "metadata": {
        "id": "6cj1jSYx-FCz",
        "outputId": "53716734-aa58-4053-c4e1-fe18521f01cf",
        "colab": {
          "base_uri": "https://localhost:8080/",
          "height": 34
        }
      },
      "source": [
        "#Imprime las dos variables especificadas en el codigo de arriba\n",
        "print(nombre, edad)"
      ],
      "execution_count": 27,
      "outputs": [
        {
          "output_type": "stream",
          "text": [
            "Marco 13\n"
          ],
          "name": "stdout"
        }
      ]
    },
    {
      "cell_type": "code",
      "metadata": {
        "id": "PmMLifqg_Btc",
        "outputId": "6df2dc80-702a-4dee-a0fa-0f65b9ba59fa",
        "colab": {
          "base_uri": "https://localhost:8080/",
          "height": 51
        }
      },
      "source": [
        "# + concatena\n",
        "print(nombre + str(edad))\n",
        "print(nombre + nombre_completo)"
      ],
      "execution_count": 28,
      "outputs": [
        {
          "output_type": "stream",
          "text": [
            "Marco13\n",
            "Marcomarco antonio campos reyes\n"
          ],
          "name": "stdout"
        }
      ]
    },
    {
      "cell_type": "code",
      "metadata": {
        "id": "647uwv95ANlj",
        "outputId": "1a3783d7-e1bf-4e06-c55a-694719cb37bb",
        "colab": {
          "base_uri": "https://localhost:8080/",
          "height": 68
        }
      },
      "source": [
        "#con formato ---> Su nombre es Marco y su edad es 13 años.\n",
        "print(\"Su nombre es\", nombre, \"y su edad es de\" ,edad, \"años.\")\n",
        "print(\"Su nombre es {0} y su edad es de {1} años.\".format(nombre, edad) )\n",
        "print(\"Su nombre es {1} y su edad es de {0} años.\".format(nombre, edad) )"
      ],
      "execution_count": 29,
      "outputs": [
        {
          "output_type": "stream",
          "text": [
            "Su nombre es Marco y su edad es de 13 años.\n",
            "Su nombre es Marco y su edad es de 13 años.\n",
            "Su nombre es 13 y su edad es de Marco años.\n"
          ],
          "name": "stdout"
        }
      ]
    },
    {
      "cell_type": "code",
      "metadata": {
        "id": "10Y3zJjsBzex",
        "outputId": "c9f87c00-20cc-4e38-9e41-99b8538636bd",
        "colab": {
          "base_uri": "https://localhost:8080/",
          "height": 34
        }
      },
      "source": [
        "# con formato con el operador f\"\" \n",
        "print(f\"Su nombre es \\\"{nombre}\\\" y su edad es de {edad} años.\")"
      ],
      "execution_count": 18,
      "outputs": [
        {
          "output_type": "stream",
          "text": [
            "Su nombre es \"Marco\" y su edad es de 13 años.\n"
          ],
          "name": "stdout"
        }
      ]
    },
    {
      "cell_type": "markdown",
      "metadata": {
        "id": "sVvOA-wDCPo8"
      },
      "source": [
        "#Carácter de escape\n",
        "\\n salto de linea\n",
        "\\t tabulador\n",
        "\\a beeb\n",
        "\\\" imprimir comilla doble\n",
        "\\\\'imprimir comilla simple"
      ]
    },
    {
      "cell_type": "code",
      "metadata": {
        "id": "i_Nw3vkNDMS1",
        "outputId": "810d4644-6ca9-4b01-bae3-4375fe408932",
        "colab": {
          "base_uri": "https://localhost:8080/",
          "height": 51
        }
      },
      "source": [
        "\"\"\"\n",
        "Esto es \n",
        "un comentario\n",
        "de múltiple linea\n",
        "tan tan\n",
        "\"\"\"\n",
        "print(f\"\\tMi nombre es\\n\\t\\t {nombre}\")"
      ],
      "execution_count": 21,
      "outputs": [
        {
          "output_type": "stream",
          "text": [
            "\tMi nombre es\n",
            "\t\t Marco\n"
          ],
          "name": "stdout"
        }
      ]
    },
    {
      "cell_type": "markdown",
      "metadata": {
        "id": "5gkL9o02D78_"
      },
      "source": [
        "# #Ayuda de tipos de dato en Python\n",
        "dir() me dice los metodos que tiene el tipo de dato de forma superficial     \n",
        "help() hace lo mismo que dir pero mas a profundidad"
      ]
    },
    {
      "cell_type": "code",
      "metadata": {
        "id": "x2GGaFzmESHn"
      },
      "source": [
        "# str, int, float, bool ... list, dict, set\n",
        "help(str)"
      ],
      "execution_count": null,
      "outputs": []
    },
    {
      "cell_type": "code",
      "metadata": {
        "id": "XUsGhLzEFOj0",
        "outputId": "83c2c41d-955f-42ad-c2c6-094399165499",
        "colab": {
          "base_uri": "https://localhost:8080/",
          "height": 51
        }
      },
      "source": [
        "print(nombre_completo.capitalize() )\n",
        "print(nombre_completo.upper() , end=\"----\" )\n",
        "print(nombre_completo.title() )"
      ],
      "execution_count": 35,
      "outputs": [
        {
          "output_type": "stream",
          "text": [
            "Marco antonio campos reyes\n",
            "MARCO ANTONIO CAMPOS REYES----Marco Antonio Campos Reyes\n"
          ],
          "name": "stdout"
        }
      ]
    },
    {
      "cell_type": "code",
      "metadata": {
        "id": "-zfPQMwBGA41"
      },
      "source": [
        "help(print)"
      ],
      "execution_count": null,
      "outputs": []
    },
    {
      "cell_type": "markdown",
      "metadata": {
        "id": "EBLnfBP0Gpa7"
      },
      "source": [
        "## clase String\n",
        "Es manejada como un arreglo (c o java) o lista (python)\n",
        "telefono = \"Huawei mate 30 pro\"\n",
        "print(telefono[0])"
      ]
    },
    {
      "cell_type": "code",
      "metadata": {
        "id": "7489Fb9RHFyB",
        "outputId": "c3b8fff3-1482-441a-9bbd-686431e46377",
        "colab": {
          "base_uri": "https://localhost:8080/",
          "height": 34
        }
      },
      "source": [
        "teléfono = \"Huawei mate 30 pro\"\n",
        "print(teléfono[5] )"
      ],
      "execution_count": 42,
      "outputs": [
        {
          "output_type": "stream",
          "text": [
            "i\n"
          ],
          "name": "stdout"
        }
      ]
    },
    {
      "cell_type": "markdown",
      "metadata": {
        "id": "0flHeN8YILSA"
      },
      "source": [
        "## Slicing (rebanado)\n",
        "[ini:stop:incremento]\n",
        "Nota: El stop no se incluye, termina en el valor anterior al stop"
      ]
    },
    {
      "cell_type": "code",
      "metadata": {
        "id": "C0092vVOIcmf",
        "outputId": "03d0df3e-5536-4f94-a75d-bfb37573f8f7",
        "colab": {
          "base_uri": "https://localhost:8080/",
          "height": 102
        }
      },
      "source": [
        "print(teléfono[7:11:1])\n",
        "# El inicio y el incremento son opcionales\n",
        "print(teléfono[:11:])\n",
        "#El valor por defecto de stop es len(str)\n",
        "print(teléfono[::])\n",
        "#incremento negativo\n",
        "print(teléfono[::-1])\n",
        "# slacing negativo\n",
        "ini = -3\n",
        "inc = 1\n",
        "print(teléfono[ini::inc])"
      ],
      "execution_count": 53,
      "outputs": [
        {
          "output_type": "stream",
          "text": [
            "mate\n",
            "Huawei mate\n",
            "Huawei mate 30 pro\n",
            "orp 03 etam iewauH\n",
            "pro\n"
          ],
          "name": "stdout"
        }
      ]
    },
    {
      "cell_type": "markdown",
      "metadata": {
        "id": "m1T67fPcNLnY"
      },
      "source": [
        "## Métodos de String (str)\n",
        "Existen métodos muy útiles en esta clse."
      ]
    },
    {
      "cell_type": "code",
      "metadata": {
        "id": "M241nYcZNaCJ",
        "outputId": "d0070c3a-6125-476b-ebaa-2895035e56a7",
        "colab": {
          "base_uri": "https://localhost:8080/",
          "height": 357
        }
      },
      "source": [
        "facultad=\"    facultad de estudios superiores aragon      \\n\"\n",
        "print(facultad)\n",
        "print(facultad.count(\"u\") ) #cuenta el numero de elementos en la cadena\n",
        "print(facultad.find(\"s\") )  #dice el numero de espacio o caracter del cprimer caracter que se le indica, en este caso el numero de espacio en que la primera S se encuentra, comenzando desde 0\n",
        "print(facultad.strip() )    #Elimina los espacios en blanco y Saltos de linea\n",
        "tamaño = len(facultad)\n",
        "print(len(facultad))\n",
        "print(f\"tamaño de la cadena es {tamaño} caracteres\")\n",
        "print(facultad)\n",
        "print(facultad.strip().split(\" \"))\n",
        "\n",
        "print(\"-------------------\")\n",
        "# copiar cadenas\n",
        "otra_cadena = facultad\n",
        "print(otra_cadena)\n",
        "facultad = \"FES Aragón\"\n",
        "print(facultad)\n",
        "print(otra_cadena)\n",
        "\n",
        "# copiar listas\n",
        "colores = [\"rojo\", \"verde\"]\n",
        "otra = colores\n",
        "print(colores)\n",
        "print(otra)\n",
        "otra.append(\"rosa\")\n",
        "print(colores)\n",
        "print(otra)"
      ],
      "execution_count": 76,
      "outputs": [
        {
          "output_type": "stream",
          "text": [
            "    facultad de estudios superiores aragon      \n",
            "\n",
            "3\n",
            "17\n",
            "facultad de estudios superiores aragon\n",
            "49\n",
            "tamaño de la cadena es 49 caracteres\n",
            "    facultad de estudios superiores aragon      \n",
            "\n",
            "['facultad', 'de', 'estudios', 'superiores', 'aragon']\n",
            "-------------------\n",
            "    facultad de estudios superiores aragon      \n",
            "\n",
            "FES Aragón\n",
            "    facultad de estudios superiores aragon      \n",
            "\n",
            "['rojo', 'verde']\n",
            "['rojo', 'verde']\n",
            "['rojo', 'verde', 'rosa']\n",
            "['rojo', 'verde', 'rosa']\n"
          ],
          "name": "stdout"
        }
      ]
    }
  ]
}