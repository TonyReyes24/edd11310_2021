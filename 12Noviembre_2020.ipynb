{
  "nbformat": 4,
  "nbformat_minor": 0,
  "metadata": {
    "colab": {
      "name": "12Noviembre_2020.ipynb",
      "provenance": [],
      "authorship_tag": "ABX9TyPlGGzmJYP2Fju1bywDfkaB",
      "include_colab_link": true
    },
    "kernelspec": {
      "name": "python3",
      "display_name": "Python 3"
    }
  },
  "cells": [
    {
      "cell_type": "markdown",
      "metadata": {
        "id": "view-in-github",
        "colab_type": "text"
      },
      "source": [
        "<a href=\"https://colab.research.google.com/github/TonyReyes24/edd11310_2021/blob/master/12Noviembre_2020.ipynb\" target=\"_parent\"><img src=\"https://colab.research.google.com/assets/colab-badge.svg\" alt=\"Open In Colab\"/></a>"
      ]
    },
    {
      "cell_type": "code",
      "metadata": {
        "id": "vigfdfUkyfLL",
        "outputId": "64e66724-50f1-482e-b9a1-2c062ae23551",
        "colab": {
          "base_uri": "https://localhost:8080/"
        }
      },
      "source": [
        "class Node:\n",
        "  def __init__(self, dato):\n",
        "    self.dato = dato\n",
        "    self.siguiente = None\n",
        "\n",
        "#Ejemplo 1\n",
        "a = Node( 10 )\n",
        "\n",
        "#Ejemplo 2\n",
        "a.siguiente = Node( 20 )\n",
        "\n",
        "#Ejemplo 3\n",
        "a.siguiente.siguiente = Node( 30 )\n",
        "\n",
        "#Ejemplo 4\n",
        "a.siguiente.siguiente.siguiente = Node( 40 )\n",
        "\n",
        "#Ejemplo 5\n",
        "a.siguiente.siguiente.siguiente.siguiente = Node( 50 )\n",
        "\n",
        "#Ejemplo 6   Borrar el Node( 30 )\n",
        "#a.siguiente.siguiente = a.siguiente.siguiente.siguiente\n",
        "\n",
        "#Ejemplo 7\n",
        "a.siguiente.siguiente = Node(45)\n",
        "\n",
        "#Ejemplo 8\n",
        "a.siguiente.siguiente.siguiente = Node(50)\n",
        "\n",
        "#Ejemplo 9   Cambiar un dato\n",
        "a.siguiente.siguiente.dato = 46\n",
        "\n",
        "#Ejemplo 10 Insertar entre dos Nodos\n",
        "tmp = a.siguiente.siguiente.siguiente #respaldo\n",
        "a.siguiente.siguiente.siguiente = Node( 48 ) #Se crea el nuevo\n",
        "a.siguiente.siguiente.siguiente.siguiente = tmp #Reestablesco el nodo anterior\n",
        "\n",
        "#Corrido TRansversal\n",
        "curr_node=a\n",
        "print(curr_node.dato,\"--> \", end=\"\")\n",
        "while( curr_node.siguiente != None):\n",
        "  curr_node = curr_node.siguiente\n",
        "  print(curr_node.dato,\"--> \", end=\"\")\n",
        "print(\"END\")"
      ],
      "execution_count": 25,
      "outputs": [
        {
          "output_type": "stream",
          "text": [
            "10 --> 20 --> 46 --> 48 --> 50 --> END\n"
          ],
          "name": "stdout"
        }
      ]
    },
    {
      "cell_type": "code",
      "metadata": {
        "id": "vYq9gFBOzK5K",
        "outputId": "cc5fa26c-63e1-4d93-96cb-9aba92547c0b",
        "colab": {
          "base_uri": "https://localhost:8080/"
        }
      },
      "source": [
        "class Nodo:\n",
        "    def __init__( self , dato  , sig=None ):\n",
        "        self.dato = dato\n",
        "        self.siguiente = sig\n",
        "\n",
        "#Ejemplo 1\n",
        "a = Nodo(10)\n",
        "\n",
        "#Ejemplo 2   RECONSTRUCCION\n",
        "a = Nodo(10, Nodo(20) )\n",
        "a = Nodo(10, Nodo(20, Nodo(30) ) )\n",
        "a = Nodo(10, Nodo(20, Nodo(30, Nodo(40, Nodo(50) ) ) ) )\n",
        "\n",
        "#Corrido TRansversal\n",
        "curr_node=a\n",
        "print(curr_node.dato,\"--> \", end=\"\")\n",
        "while( curr_node.siguiente != None):\n",
        "  curr_node = curr_node.siguiente\n",
        "  print(curr_node.dato,\"--> \", end=\"\")\n",
        "print(\"END\")"
      ],
      "execution_count": 31,
      "outputs": [
        {
          "output_type": "stream",
          "text": [
            "10 --> 20 --> 30 --> 40 --> 50 --> END\n"
          ],
          "name": "stdout"
        }
      ]
    }
  ]
}