{
  "nbformat": 4,
  "nbformat_minor": 0,
  "metadata": {
    "colab": {
      "name": "25Noviembre2020_1310.ipynb",
      "provenance": [],
      "authorship_tag": "ABX9TyNH2Li45HV3UDGgGWJv21VN",
      "include_colab_link": true
    },
    "kernelspec": {
      "name": "python3",
      "display_name": "Python 3"
    }
  },
  "cells": [
    {
      "cell_type": "markdown",
      "metadata": {
        "id": "view-in-github",
        "colab_type": "text"
      },
      "source": [
        "<a href=\"https://colab.research.google.com/github/TonyReyes24/edd11310_2021/blob/master/25Noviembre2020_1310.ipynb\" target=\"_parent\"><img src=\"https://colab.research.google.com/assets/colab-badge.svg\" alt=\"Open In Colab\"/></a>"
      ]
    },
    {
      "cell_type": "code",
      "metadata": {
        "colab": {
          "base_uri": "https://localhost:8080/"
        },
        "id": "w4khWmuD9GCJ",
        "outputId": "251b7b8c-78da-448d-aa17-28cdf5b02544"
      },
      "source": [
        "class Stack:\n",
        "    def __init__(self):\n",
        "        self.__data = list()\n",
        "        #esto es el constructor\n",
        "    def is_empty( self):\n",
        "        return len (self.__data) == 0\n",
        "\n",
        "    def length( self ):\n",
        "        return len(self.__data)\n",
        "\n",
        "    def pop ( self ):\n",
        "        if self.is_empty():\n",
        "            print(\"pila vacía\")\n",
        "        else: #de lo contrario\n",
        "            return self.__data.pop()\n",
        "\n",
        "    def push( self , value ):\n",
        "        self.__data.append(value)\n",
        "\n",
        "    def peek ( self ):\n",
        "        return self.__data[ len(self.__data) -1]\n",
        "\n",
        "    def to_string ( self ):\n",
        "        print(\"-----\")\n",
        "        for item in self.__data:\n",
        "\n",
        "            print(f\"| { item } |\")\n",
        "            print(\"-----\")\n",
        "    \n",
        "    #Esto es para hacer la impresión de datos pero al revés\n",
        "    def to_string_mirror ( self ):\n",
        "        print(\"--------\")\n",
        "        for item in self.__data[::-1]:\n",
        "\n",
        "            print(f\"| { item } |\")\n",
        "            print(\"--------\")\n",
        "\n",
        "\n",
        "\n",
        "        \n",
        "\n",
        "\n",
        "pila = Stack()\n",
        "\n",
        "pila.push('a')\n",
        "pila.push('x')\n",
        "pila.to_string()\n",
        "pila.push('b')\n",
        "pila.push('y')\n",
        "pila.to_string()\n",
        "var = pila.pop()\n",
        "pila.to_string()\n",
        "print(f\"var = {var}\")\n",
        "\n",
        "#Esto es para imprimir los datos al revés\n",
        "pila.to_string_mirror()"
      ],
      "execution_count": 1,
      "outputs": [
        {
          "output_type": "stream",
          "text": [
            "-----\n",
            "| a |\n",
            "-----\n",
            "| x |\n",
            "-----\n",
            "-----\n",
            "| a |\n",
            "-----\n",
            "| x |\n",
            "-----\n",
            "| b |\n",
            "-----\n",
            "| y |\n",
            "-----\n",
            "-----\n",
            "| a |\n",
            "-----\n",
            "| x |\n",
            "-----\n",
            "| b |\n",
            "-----\n",
            "var = y\n",
            "--------\n",
            "| b |\n",
            "--------\n",
            "| x |\n",
            "--------\n",
            "| a |\n",
            "--------\n"
          ],
          "name": "stdout"
        }
      ]
    }
  ]
}