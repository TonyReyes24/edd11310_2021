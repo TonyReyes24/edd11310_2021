{
  "nbformat": 4,
  "nbformat_minor": 0,
  "metadata": {
    "colab": {
      "name": "18diciembre_2020.ipynb",
      "provenance": [],
      "authorship_tag": "ABX9TyNGqKF3GKhkbFFfzleslDQi",
      "include_colab_link": true
    },
    "kernelspec": {
      "name": "python3",
      "display_name": "Python 3"
    }
  },
  "cells": [
    {
      "cell_type": "markdown",
      "metadata": {
        "id": "view-in-github",
        "colab_type": "text"
      },
      "source": [
        "<a href=\"https://colab.research.google.com/github/TonyReyes24/edd11310_2021/blob/master/18diciembre_2020.ipynb\" target=\"_parent\"><img src=\"https://colab.research.google.com/assets/colab-badge.svg\" alt=\"Open In Colab\"/></a>"
      ]
    },
    {
      "cell_type": "code",
      "metadata": {
        "colab": {
          "base_uri": "https://localhost:8080/",
          "height": 129
        },
        "id": "WT_dQMGcwV_9",
        "outputId": "10082b4e-8121-4782-f8c6-c154c24d35e5"
      },
      "source": [
        "desde  Array2D  importar  Array2D\r\n",
        "clase  LaberintoADT :\r\n",
        "    \"\" \"\r\n",
        "    0 - pasillo SERÁ UNA TUPLA\r\n",
        "    1- pared\r\n",
        "    2 - salida\r\n",
        "    e - entrada SERÁ EN UNA TUPLA\r\n",
        "    \"\" \"\r\n",
        "    def  __init__ ( self , rens , cols , pasillos , entrada , salida ):\r\n",
        "        yo . __laberinto  =  Array2D ( rens , cols , '1' )\r\n",
        "        para  pasillo  en  pasillos :\r\n",
        "            yo . __laberinto . set_item ( pasillo [ 0 ], pasillo [ 1 ], '0' )\r\n",
        "        yo . set_entrada ( entrada [ 0 ], entrada [ 1 ])\r\n",
        "        yo . set_salida ( salida [ 0 ], salida [ 1 ])\r\n",
        "        yo . __camino  =  Pila ()\r\n",
        "        yo . __previe  =  Ninguno\r\n",
        "\r\n",
        "    def  to_string ( self ):\r\n",
        "        yo . __laberinto . to_string ()\r\n",
        "\r\n",
        "    def  set_entrada ( self , ren , col ):\r\n",
        "       #Terminar la validación de las coordenadas TAREA\r\n",
        "        yo . __laberinto . set_item ( ren , col , 'E' )\r\n",
        "\r\n",
        "    def  set_salida ( yo , ren , col ):\r\n",
        "       #TAREA TERMINAR LAS VALIDACIONES\r\n",
        "        yo . __laberinto . set_item ( ren , col , 'S' )\r\n",
        "\r\n",
        "    def  es_salida ( yo , ren , col ):\r\n",
        "        volver a  sí mismo . __laberinto . get_item ( ren , col ) ==  'S'\r\n",
        "\r\n",
        "    def  buscar_entrada ( yo ):\r\n",
        "        encontrado  =  Falso\r\n",
        "        para  renglon  en  rango ( self . __laberinto . get_num_rows ()):\r\n",
        "            para  rango de columna  ( self . __laberinto . get_num_cols ()):\r\n",
        "               tope  =  yo . __camino . peek () #Va a regresar una tupla\r\n",
        "               si  yo . __laberinto . get_item ( renglon , columna ) ==  'E'\r\n",
        "                  yo . __camino . empujar (( renglon , columna ))\r\n",
        "                  encontrado  =  Verdadero\r\n",
        "        volver  encontrado\r\n",
        "\r\n",
        "    def  set_previa ( self , pos_previa ):\r\n",
        "        yo . __previa  =  pos_previa\r\n",
        "\r\n",
        "    def  get_previa ( yo ):\r\n",
        "        volver a  sí mismo . __previa\r\n",
        "\r\n",
        "    def  imprimir_camino ( yo ):\r\n",
        "        yo . __camino . to_string ()\r\n",
        "\r\n",
        "    def  imprimir_pila ( yo ):\r\n",
        "        yo . __camino . to_string ()\r\n",
        "\r\n",
        "    def  get_pos_actual ( self ):\r\n",
        "        volver a  sí mismo . __camino . mirar ()\r\n",
        "\r\n",
        "    def  resolver_laberinto ( yo ):\r\n",
        "        actual  =  yo . __camino . ojear ()   # 5,2\r\n",
        "\r\n",
        "        #Regla 1 BUSCAR A LA IZQUIERDA pos actual es 5,2\r\n",
        "        #Se le resta uno porque es la de la izquierda y preguntamos si es 0 o sea si hay pasillo\r\n",
        "        si es  real [ 1 ] - 1  ! =  - 1 \\\r\n",
        "         y  yo . __laberinto . get_item ( real [ 0 ], real [ 1 ] - 1 ) == '0' \\\r\n",
        "         y  yo . get_previa () ! = ( actual [ 0 ], actual [ 1 ] - 1 ) \\   #Regla 6 va implicita en todas\r\n",
        "         y  yo . __laberinto . get_item ( actual [ 0 ], actual [ 1 ] - 1 ) ! =  'X' :\r\n",
        "             yo . set_previa ( actual )\r\n",
        "             yo . __camino . empujar ( real [ 0 ], real [ 1 ] - 1 )\r\n",
        "\r\n",
        "        #REGLA 2 BUSCAR ARRIBA\r\n",
        "        elif  actual [ 0 ] - 1  ! =  - 1 \\\r\n",
        "         y  yo . __laberinto . get_item ( real [ 0 ] - 1 , real [ 1 ]) == '0' \\\r\n",
        "         y  yo . get_previa () ! = ( actual [ 0 ] - 1 , actual [ 1 ]) \\   #Regla 6 va implícita en todas\r\n",
        "         y  yo . __laberinto . get_item ( real [ 0 ] - 1 , real [ 1 ]) ! =  'X' :\r\n",
        "             yo . set_previa ( actual )\r\n",
        "             yo . __camino . empujar (( real [ 0 ] - 1 , real [ 1 ]))\r\n",
        "\r\n",
        "        #REGLA 3 BUSCAR DERECHA\r\n",
        "        elif  1 == 0 :\r\n",
        "          pasar\r\n",
        "\r\n",
        "\r\n",
        "\r\n",
        "        #REGLA 4 BUSCAR ABAJO\r\n",
        "        elif  1 == 0 :\r\n",
        "            pasar\r\n",
        "        otra cosa :\r\n",
        "            yo . __laberinto . set_item ( real [ 0 ], real [ 1 ], 'X' )\r\n",
        "            yo . __previa  =  actual \r\n",
        "            yo . __camino . pop ()   #Con esto hacemos retroceder"
      ],
      "execution_count": 5,
      "outputs": [
        {
          "output_type": "error",
          "ename": "SyntaxError",
          "evalue": "ignored",
          "traceback": [
            "\u001b[0;36m  File \u001b[0;32m\"<ipython-input-5-e88fd2d7faee>\"\u001b[0;36m, line \u001b[0;32m1\u001b[0m\n\u001b[0;31m    desde  Array2D  importar  Array2D\u001b[0m\n\u001b[0m                 ^\u001b[0m\n\u001b[0;31mSyntaxError\u001b[0m\u001b[0;31m:\u001b[0m invalid syntax\n"
          ]
        }
      ]
    }
  ]
}