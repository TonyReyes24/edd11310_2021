{
  "nbformat": 4,
  "nbformat_minor": 0,
  "metadata": {
    "colab": {
      "name": "20octubre.ipynb",
      "provenance": [],
      "authorship_tag": "ABX9TyOIK6MSnrSEdyIFdnIh/Zby",
      "include_colab_link": true
    },
    "kernelspec": {
      "name": "python3",
      "display_name": "Python 3"
    }
  },
  "cells": [
    {
      "cell_type": "markdown",
      "metadata": {
        "id": "view-in-github",
        "colab_type": "text"
      },
      "source": [
        "<a href=\"https://colab.research.google.com/github/TonyReyes24/edd11310_2021/blob/master/20octubre.ipynb\" target=\"_parent\"><img src=\"https://colab.research.google.com/assets/colab-badge.svg\" alt=\"Open In Colab\"/></a>"
      ]
    },
    {
      "cell_type": "code",
      "metadata": {
        "id": "woktWKJPv4Y3",
        "outputId": "1f4115de-846e-4cee-d4b1-a7a73add6a81",
        "colab": {
          "base_uri": "https://localhost:8080/",
          "height": 272
        }
      },
      "source": [
        "archivo = open('numeros.txt', 'rt')\n",
        "for linea in  archivo.readlines()[:3:]:\n",
        "    for trunc in linea.split(','):\n",
        "        print(int(trunc.strip()))\n"
      ],
      "execution_count": 8,
      "outputs": [
        {
          "output_type": "stream",
          "text": [
            "23\n",
            "23\n",
            "44\n",
            "55\n",
            "5\n",
            "44\n",
            "4\n",
            "5\n",
            "7\n",
            "7\n",
            "6\n",
            "5\n",
            "4\n",
            "2\n",
            "1\n"
          ],
          "name": "stdout"
        }
      ]
    },
    {
      "cell_type": "markdown",
      "metadata": {
        "id": "SIvQ5bCS2mZl"
      },
      "source": [
        "# sintaxis del for en Python\n",
        "\n",
        "dos versiones del for\n",
        "1. range\n",
        "2. in iterator"
      ]
    },
    {
      "cell_type": "code",
      "metadata": {
        "id": "ceLLFTPx21Mp",
        "outputId": "0e70f5e0-6df2-46ab-9549-23c99c44fb49",
        "colab": {
          "base_uri": "https://localhost:8080/",
          "height": 170
        }
      },
      "source": [
        "r = range(0,10,2)\n",
        "for x in r:\n",
        "    print(x)\n",
        "\n",
        "colores = ['rojo', 'rosa', 'azul', 'fucsia']\n",
        "\n",
        "for indice in range(0,len(colores),1): # for (indice =0;indice <4;indice++)\n",
        "    #print(colores[indice])\n",
        "    colores[indice]=colores[indice] + str(indice)\n",
        "\n",
        "# for sobre un iterador\n",
        "\n",
        "for col in colores:\n",
        "  print(col)"
      ],
      "execution_count": 18,
      "outputs": [
        {
          "output_type": "stream",
          "text": [
            "0\n",
            "2\n",
            "4\n",
            "6\n",
            "8\n",
            "rojo0\n",
            "rosa1\n",
            "azul2\n",
            "fucsia3\n"
          ],
          "name": "stdout"
        }
      ]
    },
    {
      "cell_type": "markdown",
      "metadata": {
        "id": "jj68F0g68CDT"
      },
      "source": [
        "# generadores\n",
        "\n",
        "[\"hola\" for x in range(10) ]\n",
        "\n",
        "[[0,0,0]\n",
        " [0,0,0]\n",
        " [0,0,0]]\n",
        "\n",
        "\n",
        "\n",
        " 3 x 3"
      ]
    },
    {
      "cell_type": "code",
      "metadata": {
        "id": "5AK117mY8X_a",
        "outputId": "258568a4-4d6c-4950-bbbf-79a69072b7eb",
        "colab": {
          "base_uri": "https://localhost:8080/",
          "height": 34
        }
      },
      "source": [
        "lista = [ [0,0,0] for x in range(3)]\n",
        "print(lista)"
      ],
      "execution_count": 22,
      "outputs": [
        {
          "output_type": "stream",
          "text": [
            "[[0, 0, 0], [0, 0, 0], [0, 0, 0]]\n"
          ],
          "name": "stdout"
        }
      ]
    },
    {
      "cell_type": "code",
      "metadata": {
        "id": "jik3uZ2991C6",
        "outputId": "efa7b2e7-0b39-4fe1-bd8c-f9652413b44a",
        "colab": {
          "base_uri": "https://localhost:8080/",
          "height": 34
        }
      },
      "source": [
        "renglon = 3\n",
        "columna = 3\n",
        "lista = [ [0 for x in range(columna)] for x in range(renglon) ]\n",
        "print(lista)\n"
      ],
      "execution_count": 32,
      "outputs": [
        {
          "output_type": "stream",
          "text": [
            "[[0, 0, 0], [0, 0, 0], [0, 0, 0]]\n"
          ],
          "name": "stdout"
        }
      ]
    },
    {
      "cell_type": "markdown",
      "metadata": {
        "id": "4AZnFUyR_EX7"
      },
      "source": [
        "# POO en Python\n",
        "- clase\n",
        "- creacion de objetos\n",
        "- constructor\n",
        "- encapsulamiento\n",
        "- metodos\n",
        "- atributos\n",
        "- herencia\n",
        "- "
      ]
    },
    {
      "cell_type": "code",
      "metadata": {
        "id": "USaMFPJZ_4gX",
        "outputId": "f6635567-6d8f-43bd-b854-6038f99cd469",
        "colab": {
          "base_uri": "https://localhost:8080/",
          "height": 51
        }
      },
      "source": [
        "class Computadora:\n",
        "    def __init__( self , m , p ): # 2 __ antes y 2 __ después, los guiones bajos significan private\n",
        "        self.__marca= m\n",
        "        self.__procesador= p\n",
        "        print(\"creando el objeto\")\n",
        "             \n",
        "    def to_string( self ): # self hace que Python se comporte como POO, siempre sera esta palabra de forma forzosa para que Python haga funciones de Java o POO\n",
        "        return \"Marca:\" +self.__marca+\" Procesador:\" +self.__procesador\n",
        "\n",
        "mi_pc = Computadora(\"Lenovo\",\"Intel i7-9750h\")\n",
        "mi_pc.__marca=\"HP \"\n",
        "print(mi_pc.to_string())"
      ],
      "execution_count": 51,
      "outputs": [
        {
          "output_type": "stream",
          "text": [
            "creando el objeto\n",
            "Marca:Lenovo Procesador:Intel i7-9750h\n"
          ],
          "name": "stdout"
        }
      ]
    }
  ]
}