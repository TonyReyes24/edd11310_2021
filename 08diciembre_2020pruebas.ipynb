{
  "nbformat": 4,
  "nbformat_minor": 0,
  "metadata": {
    "colab": {
      "name": "08diciembre_2020pruebas.ipynb",
      "provenance": [],
      "authorship_tag": "ABX9TyMXB3FpIn9e9/2BTxg9bhaI",
      "include_colab_link": true
    },
    "kernelspec": {
      "name": "python3",
      "display_name": "Python 3"
    }
  },
  "cells": [
    {
      "cell_type": "markdown",
      "metadata": {
        "id": "view-in-github",
        "colab_type": "text"
      },
      "source": [
        "<a href=\"https://colab.research.google.com/github/TonyReyes24/edd11310_2021/blob/master/08diciembre_2020pruebas.ipynb\" target=\"_parent\"><img src=\"https://colab.research.google.com/assets/colab-badge.svg\" alt=\"Open In Colab\"/></a>"
      ]
    },
    {
      "cell_type": "code",
      "metadata": {
        "colab": {
          "base_uri": "https://localhost:8080/",
          "height": 129
        },
        "id": "Cn7PgBd1xLMf",
        "outputId": "da769aa1-628e-4aeb-9bb8-4a950abc60a6"
      },
      "source": [
        "laboratorio . to_string ()\r\n",
        "# imprimir la Pila\r\n",
        "laboratorio . imprimir_camino ()\r\n",
        "\r\n",
        "mientras   no de  laboratorio . es_salida ( lab . get_pos_actual () [ 0 ], lab . get_pos_actual () [ 1 ]):\r\n",
        "    imprimir ( \"probar\" )\r\n",
        "    laboratorio . resolver_laberinto ()\r\n",
        "    laboratorio . imprimir_camino ()\r\n",
        "    tiempo . dormir ( 1.0 )"
      ],
      "execution_count": 1,
      "outputs": [
        {
          "output_type": "error",
          "ename": "SyntaxError",
          "evalue": "ignored",
          "traceback": [
            "\u001b[0;36m  File \u001b[0;32m\"<ipython-input-1-49b543bc60bd>\"\u001b[0;36m, line \u001b[0;32m5\u001b[0m\n\u001b[0;31m    mientras   no de  laboratorio . es_salida ( lab . get_pos_actual () [ 0 ], lab . get_pos_actual () [ 1 ]):\u001b[0m\n\u001b[0m                ^\u001b[0m\n\u001b[0;31mSyntaxError\u001b[0m\u001b[0;31m:\u001b[0m invalid syntax\n"
          ]
        }
      ]
    }
  ]
}