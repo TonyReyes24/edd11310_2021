{
  "nbformat": 4,
  "nbformat_minor": 0,
  "metadata": {
    "colab": {
      "name": "8octubre.ipynb",
      "provenance": [],
      "authorship_tag": "ABX9TyNj+9ygcPLQYoJnxp4gP/kC",
      "include_colab_link": true
    },
    "kernelspec": {
      "name": "python3",
      "display_name": "Python 3"
    }
  },
  "cells": [
    {
      "cell_type": "markdown",
      "metadata": {
        "id": "view-in-github",
        "colab_type": "text"
      },
      "source": [
        "<a href=\"https://colab.research.google.com/github/TonyReyes24/edd11310_2021/blob/master/8octubre.ipynb\" target=\"_parent\"><img src=\"https://colab.research.google.com/assets/colab-badge.svg\" alt=\"Open In Colab\"/></a>"
      ]
    },
    {
      "cell_type": "markdown",
      "metadata": {
        "id": "Vkk0Ffk0_Uuv"
      },
      "source": [
        "# #listas multidimension"
      ]
    },
    {
      "cell_type": "code",
      "metadata": {
        "id": "1DA3099L_alG",
        "outputId": "c752a718-1383-4fdc-a7ad-c460bb9e28b8",
        "colab": {
          "base_uri": "https://localhost:8080/",
          "height": 119
        }
      },
      "source": [
        "monitores =[[\"Samsung\",\"17.3 \\\"\",1024],[\"BenQ\",\"40\\\"\",2048]]\n",
        "procesadores = [[\"Intel\",\"i7\",3.4],[\"AMD\",\"razzer\",3.3],[\"Intel\",\"i3\",3.1]]\n",
        "memorias = [[\"Kingston\", \"8GB\",\"DDR4\"],[\"Kingston\", \"16GB\",\"DDR3\"],[\"ADATA\", \"32GB\",\"DDR4\"]]\n",
        "\n",
        "componentes = [monitores,procesadores,memorias]\n",
        "\n",
        "print(componentes[1])\n",
        "print(componentes[2][1][1])\n",
        "print(int(componentes[0][1][2])*2)\n",
        "print(componentes[1][1][1][1:4:1])\n",
        "#adata\n",
        "print(componentes[2][2][0].lower())\n",
        "\n",
        "componentes[2].append([\"Patito\",\"32GB\",\"DDR4\"])\n",
        "print(componentes[2])\n",
        "\n"
      ],
      "execution_count": 21,
      "outputs": [
        {
          "output_type": "stream",
          "text": [
            "[['Intel', 'i7', 3.4], ['AMD', 'razzer', 3.3], ['Intel', 'i3', 3.1]]\n",
            "16GB\n",
            "4096\n",
            "azz\n",
            "adata\n",
            "[['Kingston', '8GB', 'DDR4'], ['Kingston', '16GB', 'DDR3'], ['ADATA', '32GB', 'DDR4'], ['Patito', '32GB', 'DDR4']]\n"
          ],
          "name": "stdout"
        }
      ]
    },
    {
      "cell_type": "markdown",
      "metadata": {
        "id": "sDoEeVUrIsXr"
      },
      "source": [
        "# #copiar listas\n",
        "# #extender listas"
      ]
    },
    {
      "cell_type": "code",
      "metadata": {
        "id": "YnMuMPGLJTkv",
        "outputId": "3350debb-5b9c-482f-d0e5-761687bed464",
        "colab": {
          "base_uri": "https://localhost:8080/",
          "height": 187
        }
      },
      "source": [
        "frutas=[\"manzana\", \"pera\"]\n",
        "otras_frutas = [\"aguacate\", \"sandia\"]\n",
        "\n",
        "print(frutas + otras_frutas)\n",
        "print(frutas)\n",
        "\n",
        "# + sobre listas\n",
        "#frutas = frutas + otras_frutas\n",
        "#print(frutas)\n",
        "\n",
        "#funcion extend()\n",
        "#frutas.extend(otras_frutas)\n",
        "#print(frutas)\n",
        "#frutas.append(otras_frutas)\n",
        "#print(frutas)\n",
        "\n",
        "#Copiar listas\n",
        "\n",
        "colores = [\"azul\",\"rojo\",\"verde\",\"violeta\"]\n",
        "otros_colores = colores\n",
        "print(colores)\n",
        "print(otros_colores)\n",
        "otros_colores.append(\"Rosa\")\n",
        "print(colores)\n",
        "print(otros_colores)\n",
        "\n",
        "una_mas = colores.copy()\n",
        "print(una_mas)\n",
        "una_mas.append(\"gris\")\n",
        "print(una_mas)\n",
        "print(colores)\n",
        "\n",
        "#unpaking de listas\n",
        "alumno = [\"Marco\",\"Antonio\",\"Campos\",\"Reyes\",19,\"ICO\",10.0]\n",
        "#nombre = alumno[0]\n",
        "#paterno = alumno[1]\n",
        "#etc...\n",
        "\n",
        "nombre,segundo_nombre,paterno,materno,edad,carrera,promedio = alumno\n",
        "\n",
        "print(f\"Alumno:{nombre} carrera: { carrera} promedio={promedio}\")"
      ],
      "execution_count": 5,
      "outputs": [
        {
          "output_type": "stream",
          "text": [
            "['manzana', 'pera', 'aguacate', 'sandia']\n",
            "['manzana', 'pera']\n",
            "['azul', 'rojo', 'verde', 'violeta']\n",
            "['azul', 'rojo', 'verde', 'violeta']\n",
            "['azul', 'rojo', 'verde', 'violeta', 'Rosa']\n",
            "['azul', 'rojo', 'verde', 'violeta', 'Rosa']\n",
            "['azul', 'rojo', 'verde', 'violeta', 'Rosa']\n",
            "['azul', 'rojo', 'verde', 'violeta', 'Rosa', 'gris']\n",
            "['azul', 'rojo', 'verde', 'violeta', 'Rosa']\n",
            "Alumno:Marco carrera: ICO promedio=10.0\n"
          ],
          "name": "stdout"
        }
      ]
    },
    {
      "cell_type": "markdown",
      "metadata": {
        "id": "hkbi9cf-R2QO"
      },
      "source": [
        "# #tuplas\n",
        "-se declaran con ( )\n",
        "-selector con [ ]\n",
        "-no son mutables, que no se puede agregar o eliminar omodificar el entorno de esa variable\n"
      ]
    },
    {
      "cell_type": "code",
      "metadata": {
        "id": "Ie0-Ox5ASOEy",
        "outputId": "210fb5ac-bf64-41d6-857b-d17fb5757531",
        "colab": {
          "base_uri": "https://localhost:8080/",
          "height": 68
        }
      },
      "source": [
        "precios = ( 99.9, 49.9, 12.45, 55.66 )\n",
        "print(precios[1])\n",
        "#precios[1] = 50.0\n",
        "print(precios)\n",
        "print(precios[2:4])"
      ],
      "execution_count": 9,
      "outputs": [
        {
          "output_type": "stream",
          "text": [
            "49.9\n",
            "(99.9, 49.9, 12.45, 55.66)\n",
            "(12.45, 55.66)\n"
          ],
          "name": "stdout"
        }
      ]
    },
    {
      "cell_type": "markdown",
      "metadata": {
        "id": "Ao3Q6MruTkh4"
      },
      "source": [
        "# #Diccionarios\n",
        "-se declaran con { }\n",
        "-si son mutables\n",
        "-coonjunto de pares llave:valor\n",
        "-equivalente a Objetos JSON de JavaScript\n",
        "-selector [ str ]"
      ]
    },
    {
      "cell_type": "code",
      "metadata": {
        "id": "-LxmVJBsT5vb",
        "outputId": "a0477aa2-527b-4ebe-c318-65ca442252b0",
        "colab": {
          "base_uri": "https://localhost:8080/",
          "height": 139
        }
      },
      "source": [
        "cliente = {       }\n",
        "print(cliente)\n",
        "alumno ={     \"num_cta\" :303030303 }\n",
        "print(alumno)\n",
        "\n",
        "alumno = { \n",
        "          \"num_cta\" : 303030303 ,\n",
        "          \"carrera\" : \"ICO\",\n",
        "          \"promedio\" : 9.8,\n",
        "          \"materias\" :[\"EDD\",\"CyP\",\"Calidad\",\"Emprendimiento\"],\n",
        "          \"direccion\" : { \n",
        "                            \"calle\":\"rancho seco\",\n",
        "                            \"numero\" : 23 ,\n",
        "                            \"delegacion\" : \"Neza\",\n",
        "                            \"estado\" : {\n",
        "                                        \"id\" : 15 ,\n",
        "                                        \"nombre\" : \"Estado de Máxico\" ,\n",
        "                                        \"nombre_corto\" : \"EdoMex\"\n",
        "                                        } ,\n",
        "                            \"CP\":57170\n",
        "\n",
        "                        } \n",
        "          } \n",
        "print(alumno)\n",
        "print(alumno['materias'])\n",
        "print(alumno['promedio'])\n",
        "print(alumno['direccion']['estado']['nombre_corto'])"
      ],
      "execution_count": 17,
      "outputs": [
        {
          "output_type": "stream",
          "text": [
            "{}\n",
            "{'num_cta': 303030303}\n",
            "{'num_cta': 303030303, 'carrera': 'ICO', 'promedio': 9.8, 'materias': ['EDD', 'CyP', 'Calidad', 'Emprendimiento'], 'direccion': {'calle': 'rancho seco', 'numero': 23, 'delegacion': 'Neza', 'estado': {'id': 15, 'nombre': 'Estado de Máxico', 'nombre_corto': 'EdoMex'}, 'CP': 57170}}\n",
            "['EDD', 'CyP', 'Calidad', 'Emprendimiento']\n",
            "9.8\n",
            "EdoMex\n"
          ],
          "name": "stdout"
        }
      ]
    }
  ]
}