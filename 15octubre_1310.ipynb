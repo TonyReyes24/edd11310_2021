{
  "nbformat": 4,
  "nbformat_minor": 0,
  "metadata": {
    "colab": {
      "name": "15octubre_1310.ipynb",
      "provenance": [],
      "toc_visible": true,
      "authorship_tag": "ABX9TyOOvbdl3rmbc7zHvjPPdKLH",
      "include_colab_link": true
    },
    "kernelspec": {
      "name": "python3",
      "display_name": "Python 3"
    }
  },
  "cells": [
    {
      "cell_type": "markdown",
      "metadata": {
        "id": "view-in-github",
        "colab_type": "text"
      },
      "source": [
        "<a href=\"https://colab.research.google.com/github/TonyReyes24/edd11310_2021/blob/master/15octubre_1310.ipynb\" target=\"_parent\"><img src=\"https://colab.research.google.com/assets/colab-badge.svg\" alt=\"Open In Colab\"/></a>"
      ]
    },
    {
      "cell_type": "code",
      "metadata": {
        "id": "hH1ZdzIMCGSt"
      },
      "source": [
        ""
      ],
      "execution_count": null,
      "outputs": []
    },
    {
      "cell_type": "markdown",
      "metadata": {
        "id": "8GA2c1jsB4B0"
      },
      "source": [
        "#Módulos\n",
        "Son recursos reutilizables que convierten varias funciones que pueden ser importadas a tu código."
      ]
    },
    {
      "cell_type": "code",
      "metadata": {
        "id": "kiNCFLk-CD6v",
        "outputId": "dc434dc3-e224-4dd8-a386-a48c5c9d847b",
        "colab": {
          "base_uri": "https://localhost:8080/",
          "height": 35
        }
      },
      "source": [
        "\"\"\"\n",
        "import mi_modulo\n",
        "\n",
        "x = mi_modulo.sumar( 4 , 7 )\n",
        "\n",
        "print( x )\n",
        "\n",
        "print( mi_modulo.multiplicar(3 , 5))\n",
        "\"\"\""
      ],
      "execution_count": 17,
      "outputs": [
        {
          "output_type": "execute_result",
          "data": {
            "application/vnd.google.colaboratory.intrinsic+json": {
              "type": "string"
            },
            "text/plain": [
              "'\\nimport mi_modulo\\n\\nx = mi_modulo.sumar( 4 , 7 )\\n\\nprint( x )\\n\\nprint( mi_modulo.multiplicar(3 , 5))\\n'"
            ]
          },
          "metadata": {
            "tags": []
          },
          "execution_count": 17
        }
      ]
    },
    {
      "cell_type": "code",
      "metadata": {
        "id": "259Vd4uhJKcl",
        "outputId": "ec26608f-177b-45c3-ec77-015117982e00",
        "colab": {
          "base_uri": "https://localhost:8080/",
          "height": 51
        }
      },
      "source": [
        "from mi_modulo import sumar, dividir\n",
        "\n",
        "print(sumar(4 , 7))\n",
        "print(dividir(14 , 7))\n"
      ],
      "execution_count": 21,
      "outputs": [
        {
          "output_type": "stream",
          "text": [
            "11\n",
            "2.0\n"
          ],
          "name": "stdout"
        }
      ]
    },
    {
      "cell_type": "code",
      "metadata": {
        "id": "_zIQGJ-MLPmp",
        "outputId": "9e56df02-6301-4baa-ed4f-166f971997de",
        "colab": {
          "base_uri": "https://localhost:8080/",
          "height": 34
        }
      },
      "source": [
        "import mi_modulo as patito\n",
        "\n",
        "print(patito.sumar(4 , 6))"
      ],
      "execution_count": 20,
      "outputs": [
        {
          "output_type": "stream",
          "text": [
            "10\n"
          ],
          "name": "stdout"
        }
      ]
    },
    {
      "cell_type": "code",
      "metadata": {
        "id": "sn9sRmp3OPqU",
        "outputId": "ccb8bff7-8fe2-44c9-fb6c-6a958072f906",
        "colab": {
          "base_uri": "https://localhost:8080/",
          "height": 35
        }
      },
      "source": [
        "from joke_generator import generate\n",
        "\n",
        "generate()"
      ],
      "execution_count": 26,
      "outputs": [
        {
          "output_type": "execute_result",
          "data": {
            "application/vnd.google.colaboratory.intrinsic+json": {
              "type": "string"
            },
            "text/plain": [
              "'What does a pirate pay for his corn? A buccaneer!'"
            ]
          },
          "metadata": {
            "tags": []
          },
          "execution_count": 26
        }
      ]
    },
    {
      "cell_type": "markdown",
      "metadata": {
        "id": "qaIcMItjSZG-"
      },
      "source": [
        "#Texto\n",
        "-open(str , str)\n",
        "1. Nombre o ruta del archivo\n",
        "-modulo apertura del archivo ( r , w , a append si y solo si el archivo existe, x append si solo si el archivo no existe )\n",
        "\n",
        "-Formato del archivo (t ó b)\n"
      ]
    },
    {
      "cell_type": "code",
      "metadata": {
        "id": "DFHlFRw3TGjg"
      },
      "source": [
        "archivo = open(\"saludo.txt\",\"wt\")\n",
        "archivo.write(\"Hola mundo \\n Ola k aze\")\n",
        "archivo.close()"
      ],
      "execution_count": 45,
      "outputs": []
    },
    {
      "cell_type": "code",
      "metadata": {
        "id": "NQ4vN1L2Uc0e",
        "outputId": "8f48369c-13c8-432e-aa9c-cb2d20bdb14f",
        "colab": {
          "base_uri": "https://localhost:8080/",
          "height": 136
        }
      },
      "source": [
        "otro = open('./sample_data/anscombe.json',\"rt\")\n",
        "datos = otro.read()\n",
        "#print(datos)\n",
        "otro.close()\n",
        "\n",
        "arch = open('frutas.txt','rt')\n",
        "data= 'hola'\n",
        "while (data != ''):\n",
        "    data= arch.readline()\n",
        "    print(data)\n",
        "arch.close()\n",
        "\n",
        "arch = open('frutas.txt','rt')\n",
        "list_frutas = arch.readlines()\n",
        "print(list_frutas)\n",
        "arch.close()"
      ],
      "execution_count": 55,
      "outputs": [
        {
          "output_type": "stream",
          "text": [
            "manzana,pera    ,    kiwi    , aguacate\n",
            "\n",
            "limon , naranja\n",
            "\n",
            "sandia  ,  papaya \n",
            "\n",
            "['manzana,pera    ,    kiwi    , aguacate\\n', 'limon , naranja\\n', 'sandia  ,  papaya ']\n"
          ],
          "name": "stdout"
        }
      ]
    },
    {
      "cell_type": "code",
      "metadata": {
        "id": "dW9E1Gw6Woyh"
      },
      "source": [
        "help(otro)"
      ],
      "execution_count": null,
      "outputs": []
    }
  ]
}