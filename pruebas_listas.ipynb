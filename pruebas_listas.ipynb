{
  "nbformat": 4,
  "nbformat_minor": 0,
  "metadata": {
    "colab": {
      "name": "pruebas_listas.ipynb",
      "provenance": [],
      "authorship_tag": "ABX9TyPPeDqZsKWKXZfl0hpMofcn",
      "include_colab_link": true
    },
    "kernelspec": {
      "name": "python3",
      "display_name": "Python 3"
    }
  },
  "cells": [
    {
      "cell_type": "markdown",
      "metadata": {
        "id": "view-in-github",
        "colab_type": "text"
      },
      "source": [
        "<a href=\"https://colab.research.google.com/github/TonyReyes24/edd11310_2021/blob/master/pruebas_listas.ipynb\" target=\"_parent\"><img src=\"https://colab.research.google.com/assets/colab-badge.svg\" alt=\"Open In Colab\"/></a>"
      ]
    },
    {
      "cell_type": "code",
      "metadata": {
        "colab": {
          "base_uri": "https://localhost:8080/",
          "height": 129
        },
        "id": "fc5OQhqcFHZX",
        "outputId": "97e64733-2896-4458-c726-c1e8be76163d"
      },
      "source": [
        "de  listas  importar  LinkedList\n",
        "\n",
        "l  =  LinkedList ()\n",
        "print ( f \"L esta vacia? { l . is_empty () } \" )\n",
        "l . añadir ( 10 )\n",
        "l . añadir ( 5 )\n",
        "l . añadir ( 6 )\n",
        "l . añadir ( 20 )\n",
        "print ( f \"L esta vacia? { l . is_empty () } \" )\n",
        "l . transversal ()\n",
        "l . eliminar ( 10 )\n",
        "l . transversal ()\n",
        "l . anteponer ( 3 )\n",
        "l . transversal ()\n",
        "imprimir ( \"-----\" )\n",
        "x  =  l . cola ()\n",
        "imprimir ( x . datos )\n",
        "imprimir ( \"-----\" )\n",
        "imprimir ( l . get ())"
      ],
      "execution_count": 1,
      "outputs": [
        {
          "output_type": "error",
          "ename": "SyntaxError",
          "evalue": "ignored",
          "traceback": [
            "\u001b[0;36m  File \u001b[0;32m\"<ipython-input-1-0a13c90c06ac>\"\u001b[0;36m, line \u001b[0;32m1\u001b[0m\n\u001b[0;31m    de  listas  importar  LinkedList\u001b[0m\n\u001b[0m             ^\u001b[0m\n\u001b[0;31mSyntaxError\u001b[0m\u001b[0;31m:\u001b[0m invalid syntax\n"
          ]
        }
      ]
    }
  ]
}