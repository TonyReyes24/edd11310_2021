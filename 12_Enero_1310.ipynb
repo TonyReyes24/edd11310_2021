{
  "nbformat": 4,
  "nbformat_minor": 0,
  "metadata": {
    "colab": {
      "name": "12_Enero_1310.ipynb",
      "provenance": [],
      "authorship_tag": "ABX9TyOgZKCenNTIuJqGNC93f6N+",
      "include_colab_link": true
    },
    "kernelspec": {
      "name": "python3",
      "display_name": "Python 3"
    }
  },
  "cells": [
    {
      "cell_type": "markdown",
      "metadata": {
        "id": "view-in-github",
        "colab_type": "text"
      },
      "source": [
        "<a href=\"https://colab.research.google.com/github/TonyReyes24/edd11310_2021/blob/master/12_Enero_1310.ipynb\" target=\"_parent\"><img src=\"https://colab.research.google.com/assets/colab-badge.svg\" alt=\"Open In Colab\"/></a>"
      ]
    },
    {
      "cell_type": "code",
      "metadata": {
        "colab": {
          "base_uri": "https://localhost:8080/"
        },
        "id": "3jMRtEY78M1_",
        "outputId": "34685b97-929b-40ab-be98-6d4c857825af"
      },
      "source": [
        "def factorial( n ):\r\n",
        "    if n == 0:\r\n",
        "        return 1\r\n",
        "    else:\r\n",
        "        return factorial(n-1)*n\r\n",
        "        \r\n",
        "def printRev( n ):\r\n",
        "    if n > 0:\r\n",
        "        printRev( n-1 )\r\n",
        "        print( n )\r\n",
        "\r\n",
        "def fibonacci(n):\r\n",
        "    if n==0 or n==1:\r\n",
        "        return n\r\n",
        "    if n > 1:\r\n",
        "        return (fibonacci(n-1) + fibonacci(n-2))\r\n",
        "\r\n",
        "def main():\r\n",
        "    for x in range(0,11,1):\r\n",
        "        r = factorial(x)\r\n",
        "        print(f\"El factorial de {11} es {r}\")\r\n",
        "def main2():\r\n",
        "    printRev(5)\r\n",
        "\r\n",
        "def main3():\r\n",
        "    f=11\r\n",
        "    for num in range(f):\r\n",
        "        print(str(fibonacci(num)) + \",\",end=\"\")\r\n",
        "\r\n",
        "\r\n",
        "main()\r\n",
        "print(\"-------------\")\r\n",
        "main2()\r\n",
        "print(\"\\n-------------\")\r\n",
        "main3()"
      ],
      "execution_count": 1,
      "outputs": [
        {
          "output_type": "stream",
          "text": [
            "El factorial de 11 es 1\n",
            "El factorial de 11 es 1\n",
            "El factorial de 11 es 2\n",
            "El factorial de 11 es 6\n",
            "El factorial de 11 es 24\n",
            "El factorial de 11 es 120\n",
            "El factorial de 11 es 720\n",
            "El factorial de 11 es 5040\n",
            "El factorial de 11 es 40320\n",
            "El factorial de 11 es 362880\n",
            "El factorial de 11 es 3628800\n",
            "-------------\n",
            "1\n",
            "2\n",
            "3\n",
            "4\n",
            "5\n",
            "\n",
            "-------------\n",
            "0,1,1,2,3,5,8,13,21,34,55,"
          ],
          "name": "stdout"
        }
      ]
    }
  ]
}