{
  "nbformat": 4,
  "nbformat_minor": 0,
  "metadata": {
    "colab": {
      "name": "24Noviembre_2020_1310.ipynb",
      "provenance": [],
      "authorship_tag": "ABX9TyNk9D3ovmgHbGgtzB00ikYL",
      "include_colab_link": true
    },
    "kernelspec": {
      "name": "python3",
      "display_name": "Python 3"
    }
  },
  "cells": [
    {
      "cell_type": "markdown",
      "metadata": {
        "id": "view-in-github",
        "colab_type": "text"
      },
      "source": [
        "<a href=\"https://colab.research.google.com/github/TonyReyes24/edd11310_2021/blob/master/24Noviembre_2020_1310.ipynb\" target=\"_parent\"><img src=\"https://colab.research.google.com/assets/colab-badge.svg\" alt=\"Open In Colab\"/></a>"
      ]
    },
    {
      "cell_type": "code",
      "metadata": {
        "colab": {
          "base_uri": "https://localhost:8080/"
        },
        "id": "xOJpo3F2JXa-",
        "outputId": "386592ab-74ac-4b38-abdd-e114cc6b8e83"
      },
      "source": [
        "class NodoDoble:\n",
        "  def __init__( self , value , anterior = None , siguiente = None ):\n",
        "    self.data = value\n",
        "    self.next = siguiente\n",
        "    self.prev = anterior\n",
        " \n",
        "class DoubleLinkedList:\n",
        "  def __init__( self ):   #Se crea el constructor\n",
        "    self.__head = NodoDoble( None )\n",
        "    self.__tail = NodoDoble( None )\n",
        "    self.__size = 0\n",
        " \n",
        "  def get_size( self ):\n",
        "      curr_node = self.__head\n",
        "      tam = 0\n",
        "      while curr_node != None:\n",
        "        curr_node = curr_node.next\n",
        "        tam+=1\n",
        "      return tam\n",
        " \n",
        "  def is_empty( self ):\n",
        "    return self.__size == 0\n",
        " \n",
        "  def append(self , value ):\n",
        "    if self.is_empty() :\n",
        "        nuevo = NodoDoble( value )\n",
        "        self.__head = nuevo\n",
        "        self.__tail = nuevo\n",
        "    else:\n",
        "        nuevo = NodoDoble(value , self.__tail , None )\n",
        "        self.__tail.next = nuevo\n",
        "        self.__tail = nuevo\n",
        "    self.__size += 1\n",
        "  \n",
        "  def transversal( self ):\n",
        "        curr_node = self.__head\n",
        "        while curr_node != None:\n",
        "            print(f\" { curr_node.data } ⇄\" , end=\"\")\n",
        "            curr_node = curr_node.next\n",
        "        print(\"\")\n",
        "  \n",
        "  def reverse_transversal( self ):\n",
        "          curr_node = self.__tail\n",
        "          while curr_node != None:\n",
        "              print(f\" { curr_node.data } ⇄\" , end=\"\")\n",
        "              curr_node = curr_node.prev\n",
        "          print(\"\")\n",
        "  \n",
        "  def remove_from_head(self , value):\n",
        "    curr_node = self.__head\n",
        "    if self.__head.data == value:\n",
        "      self.__head = self.__head.next\n",
        "      self.__head.prev = None\n",
        "    while curr_node.data != value and curr_node != None:\n",
        "      curr_node = curr_node.next\n",
        "    if curr_node.data == value:\n",
        "      curr_node.prev.next = curr_node.next\n",
        "      curr_node.next.prev = curr_node.prev\n",
        "    curr_node.next = None\n",
        "    curr_node.prev = None\n",
        " \n",
        " \n",
        " \n",
        " \n",
        "ld = DoubleLinkedList()\n",
        "print(\"Esta vacia? \",ld.is_empty())\n",
        "ld.append(10)\n",
        "ld.append(20)\n",
        "ld.append(30)\n",
        "print(f\"La lista tiene {ld.get_size()} elementos\")\n",
        "ld.transversal()\n",
        "ld.reverse_transversal()\n",
        "ld.remove_from_head(20)\n",
        "ld.transversal()"
      ],
      "execution_count": 1,
      "outputs": [
        {
          "output_type": "stream",
          "text": [
            "Esta vacia?  True\n",
            "La lista tiene 3 elementos\n",
            " 10 ⇄ 20 ⇄ 30 ⇄\n",
            " 30 ⇄ 20 ⇄ 10 ⇄\n",
            " 10 ⇄ 30 ⇄\n"
          ],
          "name": "stdout"
        }
      ]
    }
  ]
}