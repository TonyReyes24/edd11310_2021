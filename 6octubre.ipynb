{
  "nbformat": 4,
  "nbformat_minor": 0,
  "metadata": {
    "colab": {
      "name": "6octubre.ipynb",
      "provenance": [],
      "authorship_tag": "ABX9TyOlNDXIEhWPD1c7kqrFcCO5",
      "include_colab_link": true
    },
    "kernelspec": {
      "name": "python3",
      "display_name": "Python 3"
    }
  },
  "cells": [
    {
      "cell_type": "markdown",
      "metadata": {
        "id": "view-in-github",
        "colab_type": "text"
      },
      "source": [
        "<a href=\"https://colab.research.google.com/github/TonyReyes24/edd11310_2021/blob/master/6octubre.ipynb\" target=\"_parent\"><img src=\"https://colab.research.google.com/assets/colab-badge.svg\" alt=\"Open In Colab\"/></a>"
      ]
    },
    {
      "cell_type": "code",
      "metadata": {
        "id": "hyGUa7FOqYBw"
      },
      "source": [
        " #String continuacion\n",
        "\n",
        "frase = \"Si funciona... no lo compongas!!!\"\n",
        "numeros_txt = \"    1, 2, 3, 4    , 5   , 35   , 15  , 12\"\n",
        "print(numeros_txt)\n",
        "numeros_txt = numeros_txt.lstrip().split(',')\n",
        "print(numeros_txt)\n",
        "\n",
        "for j in range(len(numeros_txt)):\n",
        "  numeros_txt[ j ] = int(numeros_txt[j].strip())\n",
        "\n",
        "print(numeros_txt)\n",
        "\n",
        "# funcion range\n",
        "\n",
        "# range(inicio, stop, incremento )\n",
        "print(range(1, 10, 3))\n",
        "rango = range(1, 10, 2)\n",
        "\n",
        "for x in rango:\n",
        "  print(x)\n",
        "\n",
        "rango = range(10)\n",
        "for x in rango:\n",
        "  print(x)"
      ],
      "execution_count": null,
      "outputs": []
    },
    {
      "cell_type": "markdown",
      "metadata": {
        "id": "hMB0pmc_xI0M"
      },
      "source": [
        "# listas\n",
        "- mutables\n",
        "- declaran con [ ]\n",
        "- selector [ int ]\n",
        "- pueden ser de cualquier tipo y mezclado\n",
        "# tuplas\n",
        "- NO mutables\n",
        "- declaran con ( )\n",
        "- selectos [ int ]\n",
        "\n",
        "# diccionarios\n",
        "- son mutables\n",
        "- son conjunto de pares llave:valor\n",
        "- Equivalentes a los objetos JSON de JavaScript\n",
        "\n",
        "# conjuntos\n",
        "- representación de la teoria de conjuntos"
      ]
    },
    {
      "cell_type": "code",
      "metadata": {
        "id": "MFJXGUUOyMvC",
        "outputId": "abf61ad2-e88b-4526-c176-67785a3cef06",
        "colab": {
          "base_uri": "https://localhost:8080/",
          "height": 136
        }
      },
      "source": [
        "# Listas\n",
        "frutas = [ \"Pera\" , \"Manzana\", \"fresa\", \"Kiwi\", \"Naranja\"]\n",
        "print(frutas)\n",
        " # en las listas se pueden agregar String, Float, true, false etc..\n",
        "cosas = [\"Cuaderno\", 2 , 3.1416 , True , False , [\"Rojo\" , \"Azul\"] ]\n",
        "print(cosas)\n",
        "frutas[2] = \"Fresa\" # frutas[2] = frutas[2].capitalize()\n",
        "print(frutas)\n",
        "# agregar a una lista\n",
        "frutas.append(\"Aguacate\") #Agregar una variable a la lista\n",
        "print(frutas)\n",
        "frutas.insert(2,\"Sandia\") #Poner algo antes de una variable, en este caso sandia antes de fresa\n",
        "print(frutas)\n",
        "\n",
        "# concatenar listas\n",
        "fecha = [\"06\", \"10\", \"2020\"] #formato fecha 06/10/2020\n",
        "print(fecha)\n",
        "fecha_str = \"/\".join(fecha)\n",
        "print(fecha_str)"
      ],
      "execution_count": 40,
      "outputs": [
        {
          "output_type": "stream",
          "text": [
            "['Pera', 'Manzana', 'fresa', 'Kiwi', 'Naranja']\n",
            "['Cuaderno', 2, 3.1416, True, False, ['Rojo', 'Azul']]\n",
            "['Pera', 'Manzana', 'Fresa', 'Kiwi', 'Naranja']\n",
            "['Pera', 'Manzana', 'Fresa', 'Kiwi', 'Naranja', 'Aguacate']\n",
            "['Pera', 'Manzana', 'Sandia', 'Fresa', 'Kiwi', 'Naranja', 'Aguacate']\n",
            "['06', '10', '2020']\n",
            "06/10/2020\n"
          ],
          "name": "stdout"
        }
      ]
    },
    {
      "cell_type": "code",
      "metadata": {
        "id": "vzjHbhAh3VrG"
      },
      "source": [
        "# eliminar elementos\n",
        "cosas = [\"Cuaderno\", 2 , 3.1416 , True , False , [\"Rojo\" , \"Azul\"] ]\n",
        "print(cosas)\n",
        "cosas.append(\"Libro\")\n",
        "cosas.append(\"Lapiz\")\n",
        "print(cosas)\n",
        "algo = cosas.pop() #pop quita lo que haya en la posicion que yo le indique de la lista en este caso el numero 2, ya que se empieza desde 0 y toca a 3.1416\n",
        "print(cosas)\n",
        "print(algo)\n",
        "\n",
        "algo = cosas.pop(2)\n",
        "print(cosas)\n",
        "print(algo)\n",
        "cosas.remove(2)\n",
        "print(cosas)\n",
        "\n",
        "# vaciar una lista\n",
        "\n",
        "# cosas.clear()\n",
        "print(cosas)\n",
        "\n",
        "# ordenar la lista\n",
        "print(frutas)\n",
        "frutas.sort()\n",
        "print(frutas)\n"
      ],
      "execution_count": null,
      "outputs": []
    },
    {
      "cell_type": "code",
      "metadata": {
        "id": "m0_p9-ex7ED2"
      },
      "source": [
        "# Silicing\n",
        "\n",
        "cosas = [\"Cuaderno\", 2 , 3.1416 , True , False , [\"Rojo\" , \"Azul\"] ]\n",
        "print(cosas[3:5:1])\n",
        "print(cosas)\n",
        "print(cosas[0][3:5:1])\n",
        "\n",
        "numeros= [0,1,2,3,4,5,6,7,8,9,10,11,12,13,14,15] #el tope no se incluye\n",
        "print(numeros[8:12:1])\n",
        "print(numeros [:13:]) # imprime de 0 a 12 porque el tope no se incluye\n",
        "print(numeros[8:13:])\n",
        "\n",
        "# Sustituir -2,-2 ----> [0,1,2,3,4,5,6,7,-2,-2,13,14,15]\n",
        "\n",
        "numeros[8:13:] = [-2,-2]\n",
        "print(numeros)\n",
        "\n",
        "# preguntar por existencia\n",
        "\n",
        "print(-2 in numeros)\n",
        "print(-100 in numeros)"
      ],
      "execution_count": null,
      "outputs": []
    },
    {
      "cell_type": "markdown",
      "metadata": {
        "id": "sc9k3_R0-jD_"
      },
      "source": [
        "## Listas multidimension\n",
        "listas dentro de listas"
      ]
    },
    {
      "cell_type": "code",
      "metadata": {
        "id": "mQHpVIoQ-p_k",
        "outputId": "519c713c-cd34-4266-8e3a-b3544a2b5e9f",
        "colab": {
          "base_uri": "https://localhost:8080/",
          "height": 187
        }
      },
      "source": [
        "computadoras = [\"HP\", \"Mac book Pro 17\", \"Mate book\", \"Lenovo legion\" ]\n",
        "oss_operativos = [ \"Windows 10\", \"Linux\", \"Android\", \"iOS\" ]\n",
        "\n",
        "computo = [computadoras, oss_operativos ]\n",
        "print(computo[0])\n",
        "print(oss_operativos[1])\n",
        "print(computo[0][2])\n",
        "print(computo[0][2][0:5])\n",
        "print(computo[0][3][5: :-1])\n",
        "print(computo[0][3][-8: :-1])\n",
        "print(\"Linux\" in computo[1])\n",
        "dbms = [ [\"Mysql\", \"Open Source\", False] ,[\"MS SQL Server\", \"de paga\", True] ]\n",
        "computo.append(dbms)\n",
        "print(computo)\n",
        "print(computo[2][0][0])\n",
        "print(computo[2][1][1])"
      ],
      "execution_count": 65,
      "outputs": [
        {
          "output_type": "stream",
          "text": [
            "['HP', 'Mac book Pro 17', 'Mate book', 'Lenovo legion']\n",
            "Linux\n",
            "Mate book\n",
            "Mate \n",
            "ovoneL\n",
            "ovoneL\n",
            "True\n",
            "[['HP', 'Mac book Pro 17', 'Mate book', 'Lenovo legion'], ['Windows 10', 'Linux', 'Android', 'iOS'], [['Mysql', 'Open Source', False], ['MS SQL Server', 'de paga', True]]]\n",
            "Mysql\n",
            "de paga\n"
          ],
          "name": "stdout"
        }
      ]
    },
    {
      "cell_type": "code",
      "metadata": {
        "id": "kLOCvaxPz3Sy"
      },
      "source": [
        "help(list)"
      ],
      "execution_count": null,
      "outputs": []
    }
  ]
}