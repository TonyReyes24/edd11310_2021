{
  "nbformat": 4,
  "nbformat_minor": 0,
  "metadata": {
    "colab": {
      "name": "13octubre_1310.ipynb",
      "provenance": [],
      "authorship_tag": "ABX9TyOHBY0ReTlBQuo6GpyOvxtl",
      "include_colab_link": true
    },
    "kernelspec": {
      "name": "python3",
      "display_name": "Python 3"
    }
  },
  "cells": [
    {
      "cell_type": "markdown",
      "metadata": {
        "id": "view-in-github",
        "colab_type": "text"
      },
      "source": [
        "<a href=\"https://colab.research.google.com/github/TonyReyes24/edd11310_2021/blob/master/13octubre_1310.ipynb\" target=\"_parent\"><img src=\"https://colab.research.google.com/assets/colab-badge.svg\" alt=\"Open In Colab\"/></a>"
      ]
    },
    {
      "cell_type": "code",
      "metadata": {
        "id": "jRA_pmLMsUOs"
      },
      "source": [
        "alumno = { \n",
        "          \"num_cta\" : 303030303 ,\n",
        "          \"carrera\" : \"ICO\",\n",
        "          \"promedio\" : 9.8,\n",
        "          \"materias\" :[\"EDD\",\"CyP\",\"Calidad\",\"Emprendimiento\"],\n",
        "          \"direccion\" : { \n",
        "                            \"calle\":\"rancho seco\",\n",
        "                            \"numero\" : 23 ,\n",
        "                            \"delegacion\" : \"Neza\",\n",
        "                            \"estado\" : {\n",
        "                                        \"id\" : 15 ,\n",
        "                                        \"nombre\" : \"Estado de Máxico\" ,\n",
        "                                        \"nombre_corto\" : \"EdoMex\"\n",
        "                                        } ,\n",
        "                            \"CP\":57170\n",
        "\n",
        "                        } \n",
        "          }\n",
        "print(alumno)\n",
        "alumno['carrera'] = \"Ingeniería en Computacion\"\n",
        "print(alumno)\n",
        "alumno['nombre_completo']={'primer' : \"Juan\",\n",
        "                           'segundo' :\"Pedro\",\n",
        "                           'materno' : \"Pérez\",\n",
        "                           \"paterno\" : \"Gómez\"\n",
        "                          }\n",
        "alumno['semestre']=3\n",
        "print(alumno)\n",
        "\n",
        "print(f\"{alumno['nombre_completo']['primer']} {alumno['nombre_completo']['segundo']}\")"
      ],
      "execution_count": null,
      "outputs": []
    },
    {
      "cell_type": "code",
      "metadata": {
        "id": "Ur16eK4Ox9dJ"
      },
      "source": [
        "#key() , values() y items()\n",
        "\n",
        "llaves = alumno.keys()\n",
        "print(llaves)\n",
        "for llave in llaves:\n",
        "    print(llave.upper())\n",
        "\n",
        "valores = alumno.values()\n",
        "for val in valores:\n",
        "    print(val)\n",
        "\n",
        "pares=alumno.items()\n",
        "print(pares)\n",
        "for elem in pares:\n",
        "  print(f\"el campo { elem[0]} tiene el valor {elem[1]}\")\n",
        "  "
      ],
      "execution_count": null,
      "outputs": []
    },
    {
      "cell_type": "code",
      "metadata": {
        "id": "L-Lfj4fb1LdL",
        "outputId": "0c328fa6-b964-4dc2-e6a9-a9ce0f7cc330",
        "colab": {
          "base_uri": "https://localhost:8080/",
          "height": 34
        }
      },
      "source": [
        "computadora = {\"procesador\":\"Intel i7\",\"ram\": \"kingston 128GB\"}\n",
        "otros = {\"monitor\":\"LG 49\\\"\",\"hd\":\"Toshiba 1TB\"}\n",
        "computadora.update(otros)\n",
        "print(computadora)"
      ],
      "execution_count": 10,
      "outputs": [
        {
          "output_type": "stream",
          "text": [
            "{'procesador': 'Intel i7', 'ram': 'kingston 128GB', 'monitor': 'LG 49\"', 'hd': 'Toshiba 1TB'}\n"
          ],
          "name": "stdout"
        }
      ]
    },
    {
      "cell_type": "markdown",
      "metadata": {
        "id": "CZaDmxus2qS1"
      },
      "source": [
        "# funciones\n",
        "-son unidades de código reutilizable\n",
        "-es un mecanismo de organizacion de codigo\n",
        "-Una funcion toma de 0 a n parametros de entrada\n",
        "-tiene una sola salida (return) de cualquier tipo de dato\n",
        "-solo puedes hacer dos cosas:\n",
        "°definirla\n",
        "°llamarla\n",
        "-se definen con la palabra reservada 'def'"
      ]
    },
    {
      "cell_type": "code",
      "metadata": {
        "id": "qqf10sUu4AZ9",
        "outputId": "030cd4fa-22ea-4139-de6b-921e23fb8369",
        "colab": {
          "base_uri": "https://localhost:8080/",
          "height": 289
        }
      },
      "source": [
        "def sumar( x, y):\n",
        "    resultado = x + y\n",
        "    return resultado\n",
        "\n",
        "def saludar ( nombre ):\n",
        "    print(f\"Hola {nombre}, ¿Cómo estás?\")\n",
        "\n",
        "#procesar none\n",
        "\n",
        "def multiplicar(valor , veces):\n",
        "  if valor != None:\n",
        "         c = valor * veces\n",
        "  else:\n",
        "    c = \"Operacion no valida ¡¡¡SINTAX ERROR!!!\"\n",
        "  return c\n",
        "\n",
        "def operacion( a , b , c ):\n",
        "    res = a + (b/c)\n",
        "    return res\n"
      ],
      "execution_count": 39,
      "outputs": [
        {
          "output_type": "stream",
          "text": [
            "De entrada pidió: sopa aguada\n",
            "De plato fuerte pidió: Mojarra al mojo de ajo\n",
            "De poste pidió: Pay de limon y Duraznos en almibar\n",
            "De entrada pidió: sopa aguada\n",
            "De plato fuerte pidió: Mojarra al mojo de ajo\n",
            "De poste pidió: Galleta de animalito\n",
            "15\n",
            "8\n",
            "10\n",
            "Hola Marco, ¿Cómo estás?\n",
            "Hola antonio, ¿Cómo estás?\n",
            "None\n",
            "Operacion no valida ¡¡¡SINTAX ERROR!!!\n",
            "5.0\n",
            "2.3333333333333335\n",
            "5.0\n"
          ],
          "name": "stdout"
        }
      ]
    },
    {
      "cell_type": "code",
      "metadata": {
        "id": "pfrDkfPE_jMx",
        "outputId": "5eb06490-2a88-43e9-db3e-3beb73185313",
        "colab": {
          "base_uri": "https://localhost:8080/",
          "height": 272
        }
      },
      "source": [
        "# valores por defecto\n",
        "def comanda( primer , fuerte , postre=\"Galleta de animalito\" ):\n",
        "  print(f\"De entrada pidió: { primer }\")\n",
        "  print(f\"De plato fuerte pidió: { fuerte }\")\n",
        "  print(f\"De poste pidió: { postre }\")\n",
        "\n",
        "\n",
        "  # argumentos posicionales con tuplas *\n",
        "\n",
        "def comanda_2( *opciones ):\n",
        "    print(opciones)\n",
        "    print(f\"De entrada pidió: { opciones[0] }\")\n",
        "    print(f\"De plato fuerte pidió: { opciones[1] }\")\n",
        "    print(f\"De poste pidió: { opciones[2] }\")\n",
        "    print(\"\\n Indicaciones extra:\")\n",
        "    for ind in opciones[3::]:\n",
        "        print(f\"\\t {ind}\")\n",
        "\n",
        "comanda(\"sopa aguada\" , \"Mojarra al mojo de ajo\" , \"Pay de limon y Duraznos en almibar\")\n",
        "comanda(\"sopa aguada\" , \"Mojarra al mojo de ajo\")\n",
        "comanda_2(\"sopa aguada\", \"Mojarra al mojo de ajo\", \"Pay de limon y Duraznos en almibar\", \"La mojarra bien dorada y traer Guacamole\", \"Traer 2 limones\", \"El agua con poco hielo\")\n"
      ],
      "execution_count": 45,
      "outputs": [
        {
          "output_type": "stream",
          "text": [
            "De entrada pidió: sopa aguada\n",
            "De plato fuerte pidió: Mojarra al mojo de ajo\n",
            "De poste pidió: Pay de limon y Duraznos en almibar\n",
            "De entrada pidió: sopa aguada\n",
            "De plato fuerte pidió: Mojarra al mojo de ajo\n",
            "De poste pidió: Galleta de animalito\n",
            "('sopa aguada', 'Mojarra al mojo de ajo', 'Pay de limon y Duraznos en almibar', 'La mojarra bien dorada y traer Guacamole', 'Traer 2 limones', 'El agua con poco hielo')\n",
            "De entrada pidió: sopa aguada\n",
            "De plato fuerte pidió: Mojarra al mojo de ajo\n",
            "De poste pidió: Pay de limon y Duraznos en almibar\n",
            "\n",
            " Indicaciones extra:\n",
            "\t La mojarra bien dorada y traer Guacamole\n",
            "\t Traer 2 limones\n",
            "\t El agua con poco hielo\n"
          ],
          "name": "stdout"
        }
      ]
    },
    {
      "cell_type": "code",
      "metadata": {
        "id": "TL8y_21RCM1b",
        "outputId": "a4568cdd-b28b-4a76-88d7-82f7f2007738",
        "colab": {
          "base_uri": "https://localhost:8080/",
          "height": 136
        }
      },
      "source": [
        "# argumentos posicionales con diccionarios **\n",
        "def comanda_3( **opciones ):\n",
        "    print(opciones)\n",
        "    for op in opciones.items():\n",
        "        print(f\"{op[0]} ----> {op[1]}\")\n",
        "\n",
        "comanda_3(primer= \"sopa aguada\", fuerte= \"Mojarra al mojo de ajo\", postre= \"Pay de limon y Duraznos en almibar\", extra1= \"La mojarra bien dorada y traer Guacamole\", extra2= \"Traer 2 limones\", extra3= \"El agua con poco hielo\")"
      ],
      "execution_count": 56,
      "outputs": [
        {
          "output_type": "stream",
          "text": [
            "{'primer': 'sopa aguada', 'fuerte': 'Mojarra al mojo de ajo', 'postre': 'Pay de limon y Duraznos en almibar', 'extra1': 'La mojarra bien dorada y traer Guacamole', 'extra2': 'Traer 2 limones', 'extra3': 'El agua con poco hielo'}\n",
            "primer ----> sopa aguada\n",
            "fuerte ----> Mojarra al mojo de ajo\n",
            "postre ----> Pay de limon y Duraznos en almibar\n",
            "extra1 ----> La mojarra bien dorada y traer Guacamole\n",
            "extra2 ----> Traer 2 limones\n",
            "extra3 ----> El agua con poco hielo\n"
          ],
          "name": "stdout"
        }
      ]
    }
  ]
}